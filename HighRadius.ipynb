{
 "cells": [
  {
   "cell_type": "code",
   "execution_count": 61,
   "metadata": {
    "id": "C6oVm70L9SVG"
   },
   "outputs": [],
   "source": [
    "import pandas as pd\n",
    "import numpy as np\n",
    "import datetime\n",
    "from scipy import stats\n",
    "\n",
    "import seaborn as sns\n",
    "import matplotlib.pyplot as plt\n",
    "%matplotlib inline\n",
    "from sklearn.model_selection import train_test_split\n",
    "from sklearn.linear_model import LinearRegression\n",
    "from sklearn import metrics\n",
    "from sklearn.ensemble import RandomForestRegressor\n",
    "from sklearn.linear_model import LogisticRegression\n",
    "from sklearn.neighbors import KNeighborsClassifier as KNN"
   ]
  },
  {
   "cell_type": "code",
   "execution_count": 62,
   "metadata": {
    "colab": {
     "base_uri": "https://localhost:8080/"
    },
    "id": "xCA_PmNERcn5",
    "outputId": "f6686bc1-effb-44eb-9242-ec1c83c9491b"
   },
   "outputs": [
    {
     "data": {
      "text/plain": [
       "(50000, 19)"
      ]
     },
     "execution_count": 62,
     "metadata": {
      "tags": []
     },
     "output_type": "execute_result"
    }
   ],
   "source": [
    "df = pd.read_csv('H2HBABBA2486_Data.csv')\n",
    "df.shape"
   ]
  },
  {
   "cell_type": "code",
   "execution_count": 63,
   "metadata": {
    "colab": {
     "base_uri": "https://localhost:8080/",
     "height": 324
    },
    "id": "eCyv---VRuOD",
    "outputId": "955e3a85-df8d-4b55-b353-be302bebea12"
   },
   "outputs": [
    {
     "data": {
      "text/html": [
       "<div>\n",
       "<style scoped>\n",
       "    .dataframe tbody tr th:only-of-type {\n",
       "        vertical-align: middle;\n",
       "    }\n",
       "\n",
       "    .dataframe tbody tr th {\n",
       "        vertical-align: top;\n",
       "    }\n",
       "\n",
       "    .dataframe thead th {\n",
       "        text-align: right;\n",
       "    }\n",
       "</style>\n",
       "<table border=\"1\" class=\"dataframe\">\n",
       "  <thead>\n",
       "    <tr style=\"text-align: right;\">\n",
       "      <th></th>\n",
       "      <th>business_code</th>\n",
       "      <th>cust_number</th>\n",
       "      <th>name_customer</th>\n",
       "      <th>clear_date</th>\n",
       "      <th>buisness_year</th>\n",
       "      <th>doc_id</th>\n",
       "      <th>posting_date</th>\n",
       "      <th>document_create_date</th>\n",
       "      <th>document_create_date.1</th>\n",
       "      <th>due_in_date</th>\n",
       "      <th>invoice_currency</th>\n",
       "      <th>document type</th>\n",
       "      <th>posting_id</th>\n",
       "      <th>area_business</th>\n",
       "      <th>total_open_amount</th>\n",
       "      <th>baseline_create_date</th>\n",
       "      <th>cust_payment_terms</th>\n",
       "      <th>invoice_id</th>\n",
       "      <th>isOpen</th>\n",
       "    </tr>\n",
       "  </thead>\n",
       "  <tbody>\n",
       "    <tr>\n",
       "      <th>0</th>\n",
       "      <td>U001</td>\n",
       "      <td>0200799367</td>\n",
       "      <td>MCL associates</td>\n",
       "      <td>2019-11-18 00:00:00</td>\n",
       "      <td>2019.0</td>\n",
       "      <td>1.929872e+09</td>\n",
       "      <td>2019-09-13</td>\n",
       "      <td>20190913</td>\n",
       "      <td>20190913</td>\n",
       "      <td>20191117.0</td>\n",
       "      <td>USD</td>\n",
       "      <td>RV</td>\n",
       "      <td>1.0</td>\n",
       "      <td>NaN</td>\n",
       "      <td>925.75</td>\n",
       "      <td>20190913.0</td>\n",
       "      <td>NAGD</td>\n",
       "      <td>1.929872e+09</td>\n",
       "      <td>0</td>\n",
       "    </tr>\n",
       "    <tr>\n",
       "      <th>1</th>\n",
       "      <td>U001</td>\n",
       "      <td>0200762301</td>\n",
       "      <td>C&amp;S WH trust</td>\n",
       "      <td>2019-07-23 00:00:00</td>\n",
       "      <td>2019.0</td>\n",
       "      <td>1.929586e+09</td>\n",
       "      <td>2019-07-08</td>\n",
       "      <td>20190707</td>\n",
       "      <td>20190708</td>\n",
       "      <td>20190723.0</td>\n",
       "      <td>USD</td>\n",
       "      <td>RV</td>\n",
       "      <td>1.0</td>\n",
       "      <td>NaN</td>\n",
       "      <td>86529.42</td>\n",
       "      <td>20190708.0</td>\n",
       "      <td>NAC6</td>\n",
       "      <td>1.929586e+09</td>\n",
       "      <td>0</td>\n",
       "    </tr>\n",
       "    <tr>\n",
       "      <th>2</th>\n",
       "      <td>U001</td>\n",
       "      <td>0200769623</td>\n",
       "      <td>WAL-MAR us</td>\n",
       "      <td>2019-11-05 00:00:00</td>\n",
       "      <td>2019.0</td>\n",
       "      <td>1.930049e+09</td>\n",
       "      <td>2019-10-25</td>\n",
       "      <td>20191024</td>\n",
       "      <td>20191025</td>\n",
       "      <td>20191109.0</td>\n",
       "      <td>USD</td>\n",
       "      <td>RV</td>\n",
       "      <td>1.0</td>\n",
       "      <td>NaN</td>\n",
       "      <td>478.14</td>\n",
       "      <td>20191025.0</td>\n",
       "      <td>NAH4</td>\n",
       "      <td>1.930049e+09</td>\n",
       "      <td>0</td>\n",
       "    </tr>\n",
       "    <tr>\n",
       "      <th>3</th>\n",
       "      <td>U001</td>\n",
       "      <td>0200769623</td>\n",
       "      <td>WAL-MAR in</td>\n",
       "      <td>2020-01-15 00:00:00</td>\n",
       "      <td>2020.0</td>\n",
       "      <td>1.930352e+09</td>\n",
       "      <td>2020-01-05</td>\n",
       "      <td>20200104</td>\n",
       "      <td>20200105</td>\n",
       "      <td>20200120.0</td>\n",
       "      <td>USD</td>\n",
       "      <td>RV</td>\n",
       "      <td>1.0</td>\n",
       "      <td>NaN</td>\n",
       "      <td>13989.29</td>\n",
       "      <td>20200105.0</td>\n",
       "      <td>NAH4</td>\n",
       "      <td>1.930352e+09</td>\n",
       "      <td>0</td>\n",
       "    </tr>\n",
       "    <tr>\n",
       "      <th>4</th>\n",
       "      <td>U001</td>\n",
       "      <td>0200741174</td>\n",
       "      <td>M B  corp</td>\n",
       "      <td>2019-08-16 00:00:00</td>\n",
       "      <td>2019.0</td>\n",
       "      <td>1.929676e+09</td>\n",
       "      <td>2019-07-31</td>\n",
       "      <td>20190729</td>\n",
       "      <td>20190731</td>\n",
       "      <td>20190815.0</td>\n",
       "      <td>USD</td>\n",
       "      <td>RV</td>\n",
       "      <td>1.0</td>\n",
       "      <td>NaN</td>\n",
       "      <td>18638.80</td>\n",
       "      <td>20190731.0</td>\n",
       "      <td>NAA8</td>\n",
       "      <td>1.929676e+09</td>\n",
       "      <td>0</td>\n",
       "    </tr>\n",
       "  </tbody>\n",
       "</table>\n",
       "</div>"
      ],
      "text/plain": [
       "  business_code cust_number  ...    invoice_id isOpen\n",
       "0          U001  0200799367  ...  1.929872e+09      0\n",
       "1          U001  0200762301  ...  1.929586e+09      0\n",
       "2          U001  0200769623  ...  1.930049e+09      0\n",
       "3          U001  0200769623  ...  1.930352e+09      0\n",
       "4          U001  0200741174  ...  1.929676e+09      0\n",
       "\n",
       "[5 rows x 19 columns]"
      ]
     },
     "execution_count": 63,
     "metadata": {
      "tags": []
     },
     "output_type": "execute_result"
    }
   ],
   "source": [
    "df.head()"
   ]
  },
  {
   "cell_type": "markdown",
   "metadata": {
    "id": "xLXl-mex6wji"
   },
   "source": [
    "# **Cleaning The Data**"
   ]
  },
  {
   "cell_type": "code",
   "execution_count": 64,
   "metadata": {
    "colab": {
     "base_uri": "https://localhost:8080/"
    },
    "id": "wQq7bO1fSogR",
    "outputId": "12444420-67c3-4d61-899d-00f89470ddc9"
   },
   "outputs": [
    {
     "data": {
      "text/plain": [
       "business_code             0.0000\n",
       "cust_number               0.0000\n",
       "name_customer             0.0000\n",
       "clear_date                0.2000\n",
       "buisness_year             0.0000\n",
       "doc_id                    0.0000\n",
       "posting_date              0.0000\n",
       "document_create_date      0.0000\n",
       "document_create_date.1    0.0000\n",
       "due_in_date               0.0000\n",
       "invoice_currency          0.0000\n",
       "document type             0.0000\n",
       "posting_id                0.0000\n",
       "area_business             1.0000\n",
       "total_open_amount         0.0000\n",
       "baseline_create_date      0.0000\n",
       "cust_payment_terms        0.0000\n",
       "invoice_id                0.0001\n",
       "isOpen                    0.0000\n",
       "dtype: float64"
      ]
     },
     "execution_count": 64,
     "metadata": {
      "tags": []
     },
     "output_type": "execute_result"
    }
   ],
   "source": [
    "df.isnull().mean()"
   ]
  },
  {
   "cell_type": "code",
   "execution_count": 65,
   "metadata": {
    "id": "OwXnSa7BUApk"
   },
   "outputs": [],
   "source": [
    "# dropping area_business row because it contains all values as null\n",
    "df.dropna(how='all', axis=1, inplace=True)\n",
    "df.reset_index(inplace=True, drop=True)"
   ]
  },
  {
   "cell_type": "code",
   "execution_count": 66,
   "metadata": {
    "id": "G_ObDYbVmLa1"
   },
   "outputs": [],
   "source": [
    "df.drop(['document_create_date.1'], axis = 1, inplace=True)\n",
    "df.reset_index(inplace=True, drop=True)"
   ]
  },
  {
   "cell_type": "code",
   "execution_count": 67,
   "metadata": {
    "id": "lQQ9S-KmjB_T"
   },
   "outputs": [],
   "source": [
    "# dropping rows which contains Null values in ONLY invoice_id column.\n",
    "df.dropna(subset=['invoice_id'], how='all', inplace=True)\n",
    "df.reset_index(inplace=True, drop=True)"
   ]
  },
  {
   "cell_type": "code",
   "execution_count": 68,
   "metadata": {
    "id": "e-b22X9UcORa"
   },
   "outputs": [],
   "source": [
    "# Changing datatype of all the fileds containing Date to datetime data type.\n",
    "\n",
    "df['clear_date']= pd.to_datetime(df['clear_date'], format='%Y-%m-%d')\n",
    "df['buisness_year']= pd.to_datetime(df['buisness_year'], format='%Y')\n",
    "df['posting_date']= pd.to_datetime(df['posting_date'], format='%Y-%m-%d')\n",
    "# df['document_create_date']= pd.to_datetime(df['document_create_date'], format='%Y%m%d')\n",
    "df['document_create_date']= pd.to_datetime(df['document_create_date'], format='%Y%m%d')\n",
    "df['due_in_date']= pd.to_datetime(df['due_in_date'], format='%Y%m%d')\n",
    "df['baseline_create_date']= pd.to_datetime(df['baseline_create_date'], format='%Y%m%d')\n",
    "\n",
    "# data['document_create_date.1'] = pd.to_datetime(data['document_create_date.1'], format='%Y%m%d')"
   ]
  },
  {
   "cell_type": "code",
   "execution_count": 69,
   "metadata": {
    "id": "hUKxBYF2enDB"
   },
   "outputs": [],
   "source": [
    "df['buisness_year'] = df['buisness_year'].dt.year"
   ]
  },
  {
   "cell_type": "code",
   "execution_count": 70,
   "metadata": {
    "colab": {
     "base_uri": "https://localhost:8080/"
    },
    "id": "OQtWIfmfdB6K",
    "outputId": "603cccac-7b5b-4d14-85f2-f67effcbab03"
   },
   "outputs": [
    {
     "data": {
      "text/plain": [
       "business_code                   object\n",
       "cust_number                     object\n",
       "name_customer                   object\n",
       "clear_date              datetime64[ns]\n",
       "buisness_year                    int64\n",
       "doc_id                         float64\n",
       "posting_date            datetime64[ns]\n",
       "document_create_date    datetime64[ns]\n",
       "due_in_date             datetime64[ns]\n",
       "invoice_currency                object\n",
       "document type                   object\n",
       "posting_id                     float64\n",
       "total_open_amount              float64\n",
       "baseline_create_date    datetime64[ns]\n",
       "cust_payment_terms              object\n",
       "invoice_id                     float64\n",
       "isOpen                           int64\n",
       "dtype: object"
      ]
     },
     "execution_count": 70,
     "metadata": {
      "tags": []
     },
     "output_type": "execute_result"
    }
   ],
   "source": [
    "df.dtypes"
   ]
  },
  {
   "cell_type": "code",
   "execution_count": 71,
   "metadata": {
    "id": "1-19HigFHp92"
   },
   "outputs": [],
   "source": [
    "# Dropping all the duplicate rows\n",
    "\n",
    "df.drop_duplicates(keep='first',inplace=True)"
   ]
  },
  {
   "cell_type": "code",
   "execution_count": 72,
   "metadata": {
    "colab": {
     "base_uri": "https://localhost:8080/"
    },
    "id": "TTblF-yu36LV",
    "outputId": "e2ff200f-65fa-4956-a1c4-66fcfbca08b1"
   },
   "outputs": [
    {
     "data": {
      "text/plain": [
       "business_code              0\n",
       "cust_number                0\n",
       "name_customer              0\n",
       "clear_date              9702\n",
       "buisness_year              0\n",
       "doc_id                     0\n",
       "posting_date               0\n",
       "document_create_date       0\n",
       "due_in_date                0\n",
       "invoice_currency           0\n",
       "document type              0\n",
       "posting_id                 0\n",
       "total_open_amount          0\n",
       "baseline_create_date       0\n",
       "cust_payment_terms         0\n",
       "invoice_id                 0\n",
       "isOpen                     0\n",
       "dtype: int64"
      ]
     },
     "execution_count": 72,
     "metadata": {
      "tags": []
     },
     "output_type": "execute_result"
    }
   ],
   "source": [
    "df.isnull().sum()"
   ]
  },
  {
   "cell_type": "code",
   "execution_count": 73,
   "metadata": {
    "colab": {
     "base_uri": "https://localhost:8080/"
    },
    "id": "XH59A_Vy6ocK",
    "outputId": "d864c72c-2ab3-4ee6-9ab5-6dc6f5614d2d"
   },
   "outputs": [
    {
     "data": {
      "text/plain": [
       "business_code           0.000000\n",
       "cust_number             0.000000\n",
       "name_customer           0.000000\n",
       "clear_date              0.198718\n",
       "buisness_year           0.000000\n",
       "doc_id                  0.000000\n",
       "posting_date            0.000000\n",
       "document_create_date    0.000000\n",
       "due_in_date             0.000000\n",
       "invoice_currency        0.000000\n",
       "document type           0.000000\n",
       "posting_id              0.000000\n",
       "total_open_amount       0.000000\n",
       "baseline_create_date    0.000000\n",
       "cust_payment_terms      0.000000\n",
       "invoice_id              0.000000\n",
       "isOpen                  0.000000\n",
       "dtype: float64"
      ]
     },
     "execution_count": 73,
     "metadata": {
      "tags": []
     },
     "output_type": "execute_result"
    }
   ],
   "source": [
    "df.isnull().mean()"
   ]
  },
  {
   "cell_type": "code",
   "execution_count": 74,
   "metadata": {
    "colab": {
     "base_uri": "https://localhost:8080/"
    },
    "id": "XfhE-FIyIjk4",
    "outputId": "0fca9d83-9978-453e-ac59-ff195e5ea24e"
   },
   "outputs": [
    {
     "data": {
      "text/plain": [
       "(48823, 17)"
      ]
     },
     "execution_count": 74,
     "metadata": {
      "tags": []
     },
     "output_type": "execute_result"
    }
   ],
   "source": [
    "df.shape"
   ]
  },
  {
   "cell_type": "markdown",
   "metadata": {
    "id": "asOTJ2PG6R9K"
   },
   "source": [
    "# **Creating our Target column**"
   ]
  },
  {
   "cell_type": "code",
   "execution_count": 75,
   "metadata": {
    "id": "w--ayLMr4fWw"
   },
   "outputs": [],
   "source": [
    "df['target'] = (df['clear_date'] - df['due_in_date']).dt.days"
   ]
  },
  {
   "cell_type": "code",
   "execution_count": 76,
   "metadata": {
    "id": "sm9R845F5ruU"
   },
   "outputs": [],
   "source": [
    "df.sort_values(by=\"posting_date\",inplace=True)"
   ]
  },
  {
   "cell_type": "code",
   "execution_count": 77,
   "metadata": {
    "colab": {
     "base_uri": "https://localhost:8080/",
     "height": 307
    },
    "id": "qW7CgAb04pl3",
    "outputId": "60412be2-2cd0-4e11-eb04-e8c49513be65"
   },
   "outputs": [
    {
     "data": {
      "text/html": [
       "<div>\n",
       "<style scoped>\n",
       "    .dataframe tbody tr th:only-of-type {\n",
       "        vertical-align: middle;\n",
       "    }\n",
       "\n",
       "    .dataframe tbody tr th {\n",
       "        vertical-align: top;\n",
       "    }\n",
       "\n",
       "    .dataframe thead th {\n",
       "        text-align: right;\n",
       "    }\n",
       "</style>\n",
       "<table border=\"1\" class=\"dataframe\">\n",
       "  <thead>\n",
       "    <tr style=\"text-align: right;\">\n",
       "      <th></th>\n",
       "      <th>business_code</th>\n",
       "      <th>cust_number</th>\n",
       "      <th>name_customer</th>\n",
       "      <th>clear_date</th>\n",
       "      <th>buisness_year</th>\n",
       "      <th>doc_id</th>\n",
       "      <th>posting_date</th>\n",
       "      <th>document_create_date</th>\n",
       "      <th>due_in_date</th>\n",
       "      <th>invoice_currency</th>\n",
       "      <th>document type</th>\n",
       "      <th>posting_id</th>\n",
       "      <th>total_open_amount</th>\n",
       "      <th>baseline_create_date</th>\n",
       "      <th>cust_payment_terms</th>\n",
       "      <th>invoice_id</th>\n",
       "      <th>isOpen</th>\n",
       "      <th>target</th>\n",
       "    </tr>\n",
       "  </thead>\n",
       "  <tbody>\n",
       "    <tr>\n",
       "      <th>9064</th>\n",
       "      <td>U001</td>\n",
       "      <td>0200769623</td>\n",
       "      <td>WAL-MAR systems</td>\n",
       "      <td>2019-01-11</td>\n",
       "      <td>2019</td>\n",
       "      <td>1.928542e+09</td>\n",
       "      <td>2018-12-30</td>\n",
       "      <td>2018-12-29</td>\n",
       "      <td>2019-01-14</td>\n",
       "      <td>USD</td>\n",
       "      <td>RV</td>\n",
       "      <td>1.0</td>\n",
       "      <td>23894.36</td>\n",
       "      <td>2018-12-30</td>\n",
       "      <td>NAH4</td>\n",
       "      <td>1.928542e+09</td>\n",
       "      <td>0</td>\n",
       "      <td>-3.0</td>\n",
       "    </tr>\n",
       "    <tr>\n",
       "      <th>19002</th>\n",
       "      <td>U001</td>\n",
       "      <td>0200762301</td>\n",
       "      <td>C&amp;S WH foundation</td>\n",
       "      <td>2019-01-15</td>\n",
       "      <td>2019</td>\n",
       "      <td>1.928538e+09</td>\n",
       "      <td>2018-12-30</td>\n",
       "      <td>2018-12-29</td>\n",
       "      <td>2019-01-14</td>\n",
       "      <td>USD</td>\n",
       "      <td>RV</td>\n",
       "      <td>1.0</td>\n",
       "      <td>52452.71</td>\n",
       "      <td>2018-12-30</td>\n",
       "      <td>NAC6</td>\n",
       "      <td>1.928538e+09</td>\n",
       "      <td>0</td>\n",
       "      <td>1.0</td>\n",
       "    </tr>\n",
       "    <tr>\n",
       "      <th>35030</th>\n",
       "      <td>U001</td>\n",
       "      <td>0200769623</td>\n",
       "      <td>WAL-MAR</td>\n",
       "      <td>2019-01-09</td>\n",
       "      <td>2019</td>\n",
       "      <td>1.928540e+09</td>\n",
       "      <td>2018-12-30</td>\n",
       "      <td>2018-12-29</td>\n",
       "      <td>2019-01-14</td>\n",
       "      <td>USD</td>\n",
       "      <td>RV</td>\n",
       "      <td>1.0</td>\n",
       "      <td>63.60</td>\n",
       "      <td>2018-12-30</td>\n",
       "      <td>NAH4</td>\n",
       "      <td>1.928540e+09</td>\n",
       "      <td>0</td>\n",
       "      <td>-5.0</td>\n",
       "    </tr>\n",
       "    <tr>\n",
       "      <th>10427</th>\n",
       "      <td>U001</td>\n",
       "      <td>CCU013</td>\n",
       "      <td>KRAFT F corporation</td>\n",
       "      <td>2019-03-01</td>\n",
       "      <td>2019</td>\n",
       "      <td>1.928521e+09</td>\n",
       "      <td>2018-12-30</td>\n",
       "      <td>2018-12-31</td>\n",
       "      <td>2018-12-30</td>\n",
       "      <td>USD</td>\n",
       "      <td>RV</td>\n",
       "      <td>1.0</td>\n",
       "      <td>3876.08</td>\n",
       "      <td>2018-12-30</td>\n",
       "      <td>NAX2</td>\n",
       "      <td>1.928521e+09</td>\n",
       "      <td>0</td>\n",
       "      <td>61.0</td>\n",
       "    </tr>\n",
       "    <tr>\n",
       "      <th>36130</th>\n",
       "      <td>U001</td>\n",
       "      <td>0200749782</td>\n",
       "      <td>KROG foundation</td>\n",
       "      <td>2019-01-14</td>\n",
       "      <td>2019</td>\n",
       "      <td>1.928541e+09</td>\n",
       "      <td>2018-12-30</td>\n",
       "      <td>2018-12-29</td>\n",
       "      <td>2019-01-14</td>\n",
       "      <td>USD</td>\n",
       "      <td>RV</td>\n",
       "      <td>1.0</td>\n",
       "      <td>40777.56</td>\n",
       "      <td>2018-12-30</td>\n",
       "      <td>NAA8</td>\n",
       "      <td>1.928541e+09</td>\n",
       "      <td>0</td>\n",
       "      <td>0.0</td>\n",
       "    </tr>\n",
       "  </tbody>\n",
       "</table>\n",
       "</div>"
      ],
      "text/plain": [
       "      business_code cust_number  ... isOpen target\n",
       "9064           U001  0200769623  ...      0   -3.0\n",
       "19002          U001  0200762301  ...      0    1.0\n",
       "35030          U001  0200769623  ...      0   -5.0\n",
       "10427          U001      CCU013  ...      0   61.0\n",
       "36130          U001  0200749782  ...      0    0.0\n",
       "\n",
       "[5 rows x 18 columns]"
      ]
     },
     "execution_count": 77,
     "metadata": {
      "tags": []
     },
     "output_type": "execute_result"
    }
   ],
   "source": [
    "df.head()"
   ]
  },
  {
   "cell_type": "code",
   "execution_count": 78,
   "metadata": {
    "id": "2V8iVhQGj_Ex"
   },
   "outputs": [],
   "source": [
    "# cleardate - due date\n",
    "# Where clear date is null you need to predict the clear date\n",
    "# Delay= Clear Date - Due date\n",
    "# Clear Date = Due Date + Delay"
   ]
  },
  {
   "cell_type": "markdown",
   "metadata": {
    "id": "8ZQ4QMxdMOeP"
   },
   "source": [
    "# **Splitting The Data**"
   ]
  },
  {
   "cell_type": "code",
   "execution_count": 79,
   "metadata": {
    "id": "mezLNa8v-lzK"
   },
   "outputs": [],
   "source": [
    "# print(df['document_create_date'].min())\n",
    "# print(df['document_create_date'].max())"
   ]
  },
  {
   "cell_type": "code",
   "execution_count": 80,
   "metadata": {
    "id": "AS8Y0zznL0gY"
   },
   "outputs": [],
   "source": [
    "# Splitting the initial dataframe into train and test.\n",
    "# So in this case we can consider last 3 months for test set.\n",
    "\n",
    "# x_train = df[df['document_create_date'] <= '2020-02-01'].copy()\n",
    "# x_test = df[df['document_create_date'] > '2020-03-01'].copy()"
   ]
  },
  {
   "cell_type": "code",
   "execution_count": 81,
   "metadata": {
    "id": "EQQwY9RDwlXf"
   },
   "outputs": [],
   "source": [
    "# creating the test data with all te null values we have in clear_date column\n",
    "\n",
    "x_test = df[df['clear_date'].isna()]\n",
    "x_test.shape\n",
    "\n",
    "# dropping rows which contains Null values in ONLY clear_date column.\n",
    "\n",
    "df.dropna(subset=['clear_date'], how='all', inplace=True)\n",
    "df.reset_index(inplace=True, drop=True)\n",
    "x_train = df"
   ]
  },
  {
   "cell_type": "code",
   "execution_count": 82,
   "metadata": {
    "colab": {
     "base_uri": "https://localhost:8080/"
    },
    "id": "sdIJVnyMM9Op",
    "outputId": "49e9172e-135a-47c0-c22a-a8aaad74322e"
   },
   "outputs": [
    {
     "name": "stdout",
     "output_type": "stream",
     "text": [
      "(39121, 18)\n",
      "(9702, 18)\n"
     ]
    }
   ],
   "source": [
    "print(x_train.shape)\n",
    "print(x_test.shape)"
   ]
  },
  {
   "cell_type": "code",
   "execution_count": 83,
   "metadata": {
    "colab": {
     "base_uri": "https://localhost:8080/",
     "height": 307
    },
    "id": "QNLX2iNbNNeq",
    "outputId": "2507224a-e1c0-4037-810c-8bd7e973081c"
   },
   "outputs": [
    {
     "data": {
      "text/html": [
       "<div>\n",
       "<style scoped>\n",
       "    .dataframe tbody tr th:only-of-type {\n",
       "        vertical-align: middle;\n",
       "    }\n",
       "\n",
       "    .dataframe tbody tr th {\n",
       "        vertical-align: top;\n",
       "    }\n",
       "\n",
       "    .dataframe thead th {\n",
       "        text-align: right;\n",
       "    }\n",
       "</style>\n",
       "<table border=\"1\" class=\"dataframe\">\n",
       "  <thead>\n",
       "    <tr style=\"text-align: right;\">\n",
       "      <th></th>\n",
       "      <th>business_code</th>\n",
       "      <th>cust_number</th>\n",
       "      <th>name_customer</th>\n",
       "      <th>clear_date</th>\n",
       "      <th>buisness_year</th>\n",
       "      <th>doc_id</th>\n",
       "      <th>posting_date</th>\n",
       "      <th>document_create_date</th>\n",
       "      <th>due_in_date</th>\n",
       "      <th>invoice_currency</th>\n",
       "      <th>document type</th>\n",
       "      <th>posting_id</th>\n",
       "      <th>total_open_amount</th>\n",
       "      <th>baseline_create_date</th>\n",
       "      <th>cust_payment_terms</th>\n",
       "      <th>invoice_id</th>\n",
       "      <th>isOpen</th>\n",
       "      <th>target</th>\n",
       "    </tr>\n",
       "  </thead>\n",
       "  <tbody>\n",
       "    <tr>\n",
       "      <th>0</th>\n",
       "      <td>U001</td>\n",
       "      <td>0200769623</td>\n",
       "      <td>WAL-MAR systems</td>\n",
       "      <td>2019-01-11</td>\n",
       "      <td>2019</td>\n",
       "      <td>1.928542e+09</td>\n",
       "      <td>2018-12-30</td>\n",
       "      <td>2018-12-29</td>\n",
       "      <td>2019-01-14</td>\n",
       "      <td>USD</td>\n",
       "      <td>RV</td>\n",
       "      <td>1.0</td>\n",
       "      <td>23894.36</td>\n",
       "      <td>2018-12-30</td>\n",
       "      <td>NAH4</td>\n",
       "      <td>1.928542e+09</td>\n",
       "      <td>0</td>\n",
       "      <td>-3.0</td>\n",
       "    </tr>\n",
       "    <tr>\n",
       "      <th>1</th>\n",
       "      <td>U001</td>\n",
       "      <td>0200762301</td>\n",
       "      <td>C&amp;S WH foundation</td>\n",
       "      <td>2019-01-15</td>\n",
       "      <td>2019</td>\n",
       "      <td>1.928538e+09</td>\n",
       "      <td>2018-12-30</td>\n",
       "      <td>2018-12-29</td>\n",
       "      <td>2019-01-14</td>\n",
       "      <td>USD</td>\n",
       "      <td>RV</td>\n",
       "      <td>1.0</td>\n",
       "      <td>52452.71</td>\n",
       "      <td>2018-12-30</td>\n",
       "      <td>NAC6</td>\n",
       "      <td>1.928538e+09</td>\n",
       "      <td>0</td>\n",
       "      <td>1.0</td>\n",
       "    </tr>\n",
       "    <tr>\n",
       "      <th>2</th>\n",
       "      <td>U001</td>\n",
       "      <td>0200769623</td>\n",
       "      <td>WAL-MAR</td>\n",
       "      <td>2019-01-09</td>\n",
       "      <td>2019</td>\n",
       "      <td>1.928540e+09</td>\n",
       "      <td>2018-12-30</td>\n",
       "      <td>2018-12-29</td>\n",
       "      <td>2019-01-14</td>\n",
       "      <td>USD</td>\n",
       "      <td>RV</td>\n",
       "      <td>1.0</td>\n",
       "      <td>63.60</td>\n",
       "      <td>2018-12-30</td>\n",
       "      <td>NAH4</td>\n",
       "      <td>1.928540e+09</td>\n",
       "      <td>0</td>\n",
       "      <td>-5.0</td>\n",
       "    </tr>\n",
       "    <tr>\n",
       "      <th>3</th>\n",
       "      <td>U001</td>\n",
       "      <td>CCU013</td>\n",
       "      <td>KRAFT F corporation</td>\n",
       "      <td>2019-03-01</td>\n",
       "      <td>2019</td>\n",
       "      <td>1.928521e+09</td>\n",
       "      <td>2018-12-30</td>\n",
       "      <td>2018-12-31</td>\n",
       "      <td>2018-12-30</td>\n",
       "      <td>USD</td>\n",
       "      <td>RV</td>\n",
       "      <td>1.0</td>\n",
       "      <td>3876.08</td>\n",
       "      <td>2018-12-30</td>\n",
       "      <td>NAX2</td>\n",
       "      <td>1.928521e+09</td>\n",
       "      <td>0</td>\n",
       "      <td>61.0</td>\n",
       "    </tr>\n",
       "    <tr>\n",
       "      <th>4</th>\n",
       "      <td>U001</td>\n",
       "      <td>0200749782</td>\n",
       "      <td>KROG foundation</td>\n",
       "      <td>2019-01-14</td>\n",
       "      <td>2019</td>\n",
       "      <td>1.928541e+09</td>\n",
       "      <td>2018-12-30</td>\n",
       "      <td>2018-12-29</td>\n",
       "      <td>2019-01-14</td>\n",
       "      <td>USD</td>\n",
       "      <td>RV</td>\n",
       "      <td>1.0</td>\n",
       "      <td>40777.56</td>\n",
       "      <td>2018-12-30</td>\n",
       "      <td>NAA8</td>\n",
       "      <td>1.928541e+09</td>\n",
       "      <td>0</td>\n",
       "      <td>0.0</td>\n",
       "    </tr>\n",
       "  </tbody>\n",
       "</table>\n",
       "</div>"
      ],
      "text/plain": [
       "  business_code cust_number        name_customer  ...    invoice_id  isOpen  target\n",
       "0          U001  0200769623      WAL-MAR systems  ...  1.928542e+09       0    -3.0\n",
       "1          U001  0200762301    C&S WH foundation  ...  1.928538e+09       0     1.0\n",
       "2          U001  0200769623             WAL-MAR   ...  1.928540e+09       0    -5.0\n",
       "3          U001      CCU013  KRAFT F corporation  ...  1.928521e+09       0    61.0\n",
       "4          U001  0200749782      KROG foundation  ...  1.928541e+09       0     0.0\n",
       "\n",
       "[5 rows x 18 columns]"
      ]
     },
     "execution_count": 83,
     "metadata": {
      "tags": []
     },
     "output_type": "execute_result"
    }
   ],
   "source": [
    "x_train.head()"
   ]
  },
  {
   "cell_type": "code",
   "execution_count": 84,
   "metadata": {
    "colab": {
     "base_uri": "https://localhost:8080/",
     "height": 257
    },
    "id": "6sobUjrPeEdK",
    "outputId": "6f37cf2e-3821-47b4-8347-0c41b7b2740b"
   },
   "outputs": [
    {
     "data": {
      "text/html": [
       "<div>\n",
       "<style scoped>\n",
       "    .dataframe tbody tr th:only-of-type {\n",
       "        vertical-align: middle;\n",
       "    }\n",
       "\n",
       "    .dataframe tbody tr th {\n",
       "        vertical-align: top;\n",
       "    }\n",
       "\n",
       "    .dataframe thead th {\n",
       "        text-align: right;\n",
       "    }\n",
       "</style>\n",
       "<table border=\"1\" class=\"dataframe\">\n",
       "  <thead>\n",
       "    <tr style=\"text-align: right;\">\n",
       "      <th></th>\n",
       "      <th>business_code</th>\n",
       "      <th>cust_number</th>\n",
       "      <th>name_customer</th>\n",
       "      <th>clear_date</th>\n",
       "      <th>buisness_year</th>\n",
       "      <th>doc_id</th>\n",
       "      <th>posting_date</th>\n",
       "      <th>document_create_date</th>\n",
       "      <th>due_in_date</th>\n",
       "      <th>invoice_currency</th>\n",
       "      <th>document type</th>\n",
       "      <th>posting_id</th>\n",
       "      <th>total_open_amount</th>\n",
       "      <th>baseline_create_date</th>\n",
       "      <th>cust_payment_terms</th>\n",
       "      <th>invoice_id</th>\n",
       "      <th>isOpen</th>\n",
       "      <th>target</th>\n",
       "    </tr>\n",
       "  </thead>\n",
       "  <tbody>\n",
       "    <tr>\n",
       "      <th>10065</th>\n",
       "      <td>U001</td>\n",
       "      <td>0200763489</td>\n",
       "      <td>GENERAL in</td>\n",
       "      <td>NaT</td>\n",
       "      <td>2020</td>\n",
       "      <td>1.930577e+09</td>\n",
       "      <td>2020-02-27</td>\n",
       "      <td>2020-02-27</td>\n",
       "      <td>2020-03-13</td>\n",
       "      <td>USD</td>\n",
       "      <td>RV</td>\n",
       "      <td>1.0</td>\n",
       "      <td>104121.27</td>\n",
       "      <td>2020-02-27</td>\n",
       "      <td>NAA8</td>\n",
       "      <td>1.930577e+09</td>\n",
       "      <td>1</td>\n",
       "      <td>NaN</td>\n",
       "    </tr>\n",
       "    <tr>\n",
       "      <th>36395</th>\n",
       "      <td>U001</td>\n",
       "      <td>0200712187</td>\n",
       "      <td>SPAR</td>\n",
       "      <td>NaT</td>\n",
       "      <td>2020</td>\n",
       "      <td>1.930577e+09</td>\n",
       "      <td>2020-02-27</td>\n",
       "      <td>2020-02-27</td>\n",
       "      <td>2020-03-13</td>\n",
       "      <td>USD</td>\n",
       "      <td>RV</td>\n",
       "      <td>1.0</td>\n",
       "      <td>54796.10</td>\n",
       "      <td>2020-02-27</td>\n",
       "      <td>NAA8</td>\n",
       "      <td>1.930577e+09</td>\n",
       "      <td>1</td>\n",
       "      <td>NaN</td>\n",
       "    </tr>\n",
       "    <tr>\n",
       "      <th>2724</th>\n",
       "      <td>U001</td>\n",
       "      <td>0200762301</td>\n",
       "      <td>C&amp;S WH foundation</td>\n",
       "      <td>NaT</td>\n",
       "      <td>2020</td>\n",
       "      <td>1.930577e+09</td>\n",
       "      <td>2020-02-27</td>\n",
       "      <td>2020-02-27</td>\n",
       "      <td>2020-03-13</td>\n",
       "      <td>USD</td>\n",
       "      <td>RV</td>\n",
       "      <td>1.0</td>\n",
       "      <td>57608.85</td>\n",
       "      <td>2020-02-27</td>\n",
       "      <td>NAC6</td>\n",
       "      <td>1.930577e+09</td>\n",
       "      <td>1</td>\n",
       "      <td>NaN</td>\n",
       "    </tr>\n",
       "    <tr>\n",
       "      <th>13923</th>\n",
       "      <td>U001</td>\n",
       "      <td>0200122006</td>\n",
       "      <td>LATIN corp</td>\n",
       "      <td>NaT</td>\n",
       "      <td>2020</td>\n",
       "      <td>1.930571e+09</td>\n",
       "      <td>2020-02-27</td>\n",
       "      <td>2020-02-26</td>\n",
       "      <td>2020-03-13</td>\n",
       "      <td>USD</td>\n",
       "      <td>RV</td>\n",
       "      <td>1.0</td>\n",
       "      <td>30521.80</td>\n",
       "      <td>2020-02-27</td>\n",
       "      <td>NAA8</td>\n",
       "      <td>1.930571e+09</td>\n",
       "      <td>1</td>\n",
       "      <td>NaN</td>\n",
       "    </tr>\n",
       "    <tr>\n",
       "      <th>42550</th>\n",
       "      <td>U001</td>\n",
       "      <td>0200726979</td>\n",
       "      <td>BJ'S  us</td>\n",
       "      <td>NaT</td>\n",
       "      <td>2020</td>\n",
       "      <td>1.930572e+09</td>\n",
       "      <td>2020-02-27</td>\n",
       "      <td>2020-02-26</td>\n",
       "      <td>2020-03-13</td>\n",
       "      <td>USD</td>\n",
       "      <td>RV</td>\n",
       "      <td>1.0</td>\n",
       "      <td>435.00</td>\n",
       "      <td>2020-02-27</td>\n",
       "      <td>NAA8</td>\n",
       "      <td>1.930572e+09</td>\n",
       "      <td>1</td>\n",
       "      <td>NaN</td>\n",
       "    </tr>\n",
       "  </tbody>\n",
       "</table>\n",
       "</div>"
      ],
      "text/plain": [
       "      business_code cust_number  ... isOpen target\n",
       "10065          U001  0200763489  ...      1    NaN\n",
       "36395          U001  0200712187  ...      1    NaN\n",
       "2724           U001  0200762301  ...      1    NaN\n",
       "13923          U001  0200122006  ...      1    NaN\n",
       "42550          U001  0200726979  ...      1    NaN\n",
       "\n",
       "[5 rows x 18 columns]"
      ]
     },
     "execution_count": 84,
     "metadata": {
      "tags": []
     },
     "output_type": "execute_result"
    }
   ],
   "source": [
    "x_test.head()"
   ]
  },
  {
   "cell_type": "code",
   "execution_count": 85,
   "metadata": {
    "colab": {
     "base_uri": "https://localhost:8080/"
    },
    "id": "h-iQnue9xJi6",
    "outputId": "7dd26223-d07a-473e-84dd-02e489e7f0ad"
   },
   "outputs": [
    {
     "data": {
      "text/plain": [
       "(business_code           0\n",
       " cust_number             0\n",
       " name_customer           0\n",
       " clear_date              0\n",
       " buisness_year           0\n",
       " doc_id                  0\n",
       " posting_date            0\n",
       " document_create_date    0\n",
       " due_in_date             0\n",
       " invoice_currency        0\n",
       " document type           0\n",
       " posting_id              0\n",
       " total_open_amount       0\n",
       " baseline_create_date    0\n",
       " cust_payment_terms      0\n",
       " invoice_id              0\n",
       " isOpen                  0\n",
       " target                  0\n",
       " dtype: int64, business_code              0\n",
       " cust_number                0\n",
       " name_customer              0\n",
       " clear_date              9702\n",
       " buisness_year              0\n",
       " doc_id                     0\n",
       " posting_date               0\n",
       " document_create_date       0\n",
       " due_in_date                0\n",
       " invoice_currency           0\n",
       " document type              0\n",
       " posting_id                 0\n",
       " total_open_amount          0\n",
       " baseline_create_date       0\n",
       " cust_payment_terms         0\n",
       " invoice_id                 0\n",
       " isOpen                     0\n",
       " target                  9702\n",
       " dtype: int64)"
      ]
     },
     "execution_count": 85,
     "metadata": {
      "tags": []
     },
     "output_type": "execute_result"
    }
   ],
   "source": [
    "x_train.isnull().sum(), x_test.isnull().sum()"
   ]
  },
  {
   "cell_type": "markdown",
   "metadata": {
    "id": "1aGDve0za3yq"
   },
   "source": [
    "# **EDA and Feature Engineering**"
   ]
  },
  {
   "cell_type": "code",
   "execution_count": 86,
   "metadata": {
    "colab": {
     "base_uri": "https://localhost:8080/"
    },
    "id": "3I6cU6Jqa2xL",
    "outputId": "52796ac3-b8aa-4e6f-f995-ed48a0684a4a"
   },
   "outputs": [
    {
     "name": "stdout",
     "output_type": "stream",
     "text": [
      "{'U001': 35370, 'CA02': 3104, 'U013': 511, 'U002': 124, 'U005': 9, 'U007': 3}\n",
      "{'U001': 8920, 'CA02': 695, 'U013': 63, 'U002': 19, 'U005': 4, 'U007': 1}\n"
     ]
    }
   ],
   "source": [
    "# business_code, invoice_currency, document type, posting_id, cust_payment_terms\n",
    "print(dict(x_train['business_code'].value_counts()))\n",
    "print(dict(x_test['business_code'].value_counts()))"
   ]
  },
  {
   "cell_type": "code",
   "execution_count": 87,
   "metadata": {
    "colab": {
     "base_uri": "https://localhost:8080/"
    },
    "id": "UzoT3wScboNV",
    "outputId": "6ff55a3e-c858-4ad8-d9b0-defac31751be"
   },
   "outputs": [
    {
     "name": "stdout",
     "output_type": "stream",
     "text": [
      "{'USD': 36016, 'CAD': 3105}\n",
      "{'USD': 9007, 'CAD': 695}\n"
     ]
    }
   ],
   "source": [
    "print(dict(x_train['invoice_currency'].value_counts()))\n",
    "print(dict(x_test['invoice_currency'].value_counts()))"
   ]
  },
  {
   "cell_type": "code",
   "execution_count": 88,
   "metadata": {
    "colab": {
     "base_uri": "https://localhost:8080/"
    },
    "id": "_Xm_ehAybtpb",
    "outputId": "cd274287-849e-459e-b73b-c8fa2cb240d0"
   },
   "outputs": [
    {
     "name": "stdout",
     "output_type": "stream",
     "text": [
      "{0: 39121}\n",
      "{1: 9702}\n"
     ]
    }
   ],
   "source": [
    "print(dict(x_train['isOpen'].value_counts()))\n",
    "print(dict(x_test['isOpen'].value_counts()))"
   ]
  },
  {
   "cell_type": "code",
   "execution_count": 89,
   "metadata": {
    "colab": {
     "base_uri": "https://localhost:8080/"
    },
    "id": "VjqbgzWvbubb",
    "outputId": "490b202b-65fd-4d2c-b895-68624b425909"
   },
   "outputs": [
    {
     "name": "stdout",
     "output_type": "stream",
     "text": [
      "{'RV': 39121}\n",
      "{'RV': 9702}\n"
     ]
    }
   ],
   "source": [
    "print(dict(x_train['document type'].value_counts()))\n",
    "print(dict(x_test['document type'].value_counts()))"
   ]
  },
  {
   "cell_type": "code",
   "execution_count": 90,
   "metadata": {
    "colab": {
     "base_uri": "https://localhost:8080/"
    },
    "id": "3B-4PgLxb1E7",
    "outputId": "a6639a9b-a8f5-4eed-efd4-0fcf6b485caf"
   },
   "outputs": [
    {
     "name": "stdout",
     "output_type": "stream",
     "text": [
      "{1.0: 39121}\n",
      "{1.0: 9702}\n"
     ]
    }
   ],
   "source": [
    "print(dict(x_train['posting_id'].value_counts()))\n",
    "print(dict(x_test['posting_id'].value_counts()))"
   ]
  },
  {
   "cell_type": "code",
   "execution_count": 91,
   "metadata": {
    "colab": {
     "base_uri": "https://localhost:8080/"
    },
    "id": "s79bkkzUcLsU",
    "outputId": "c32c3d39-0cce-4978-ff41-bb80ad494183"
   },
   "outputs": [
    {
     "name": "stdout",
     "output_type": "stream",
     "text": [
      "{'NAA8': 15592, 'NAH4': 10455, 'CA10': 3019, 'NAC6': 1327, 'NAM4': 1063, 'NAAX': 938, 'NAG2': 731, 'NAD1': 711, 'NAU5': 696, 'NAGD': 627, 'NA32': 585, 'NAX2': 553, 'NAM2': 458, 'NA10': 340, 'NAD5': 291, 'NAVF': 222, 'NAVE': 218, 'NAM1': 215, 'NAAW': 194, 'NAWU': 130, 'NAWN': 94, 'NAVQ': 82, 'NAVR': 77, 'NAWP': 74, 'NAUZ': 40, 'NAVM': 38, 'NA3B': 37, 'CA30': 36, 'NA38': 33, 'NACB': 31, 'NABG': 29, 'NAB1': 23, 'NAD4': 19, 'NAVL': 16, 'NA84': 15, 'NA3F': 11, 'C106': 10, 'NAVD': 9, 'BR56': 9, 'NAUP': 6, 'CAB1': 5, 'NA8Q': 5, 'NA25': 4, 'B052': 4, 'NAD8': 4, 'NAVC': 3, 'CAX2': 3, 'NAM3': 3, 'MC15': 3, 'NATJ': 3, 'NA9X': 3, 'NAWM': 2, 'NAUX': 2, 'BR12': 2, 'NATM': 2, 'NATW': 2, 'NAUW': 2, 'NA31': 2, 'NANC': 2, 'NATZ': 2, 'NATY': 1, 'NACE': 1, 'NAV2': 1, 'NATK': 1, 'NAUN': 1, 'NATL': 1, 'NAV9': 1, 'CA60': 1, '90M7': 1}\n",
      "\n",
      "{'NAA8': 3927, 'NAH4': 2985, 'CA10': 686, 'NAC6': 414, 'NAGD': 277, 'NAAX': 261, 'NAM4': 233, 'NAU5': 201, 'NAD1': 106, 'NAM2': 100, 'NAG2': 80, 'NA10': 71, 'NA32': 64, 'NAX2': 51, 'NAVE': 43, 'NAD5': 40, 'NAAW': 40, 'NAM1': 35, 'NAWP': 16, 'NAVF': 9, 'NABG': 9, 'NAM3': 6, 'NAB1': 6, 'NACB': 6, 'NA38': 5, 'NAUZ': 5, 'NACG': 3, 'NA3F': 3, 'NAVQ': 3, 'NACH': 3, 'NACE': 2, 'NA3B': 2, 'NAVD': 2, 'NA25': 1, 'C106': 1, 'CAX2': 1, 'NAUW': 1, 'NAVC': 1, 'CA30': 1, 'CAB1': 1, '90M7': 1}\n"
     ]
    }
   ],
   "source": [
    "print(dict(x_train['cust_payment_terms'].value_counts()))\n",
    "print()\n",
    "print(dict(x_test['cust_payment_terms'].value_counts()))"
   ]
  },
  {
   "cell_type": "code",
   "execution_count": 92,
   "metadata": {
    "colab": {
     "base_uri": "https://localhost:8080/",
     "height": 295
    },
    "id": "c7NnAJkRcWS7",
    "outputId": "51dd40e5-ad74-4b1c-c84b-10e026fa7e96"
   },
   "outputs": [
    {
     "data": {
      "text/html": [
       "<div>\n",
       "<style scoped>\n",
       "    .dataframe tbody tr th:only-of-type {\n",
       "        vertical-align: middle;\n",
       "    }\n",
       "\n",
       "    .dataframe tbody tr th {\n",
       "        vertical-align: top;\n",
       "    }\n",
       "\n",
       "    .dataframe thead th {\n",
       "        text-align: right;\n",
       "    }\n",
       "</style>\n",
       "<table border=\"1\" class=\"dataframe\">\n",
       "  <thead>\n",
       "    <tr style=\"text-align: right;\">\n",
       "      <th></th>\n",
       "      <th>buisness_year</th>\n",
       "      <th>doc_id</th>\n",
       "      <th>posting_id</th>\n",
       "      <th>total_open_amount</th>\n",
       "      <th>invoice_id</th>\n",
       "      <th>isOpen</th>\n",
       "      <th>target</th>\n",
       "    </tr>\n",
       "  </thead>\n",
       "  <tbody>\n",
       "    <tr>\n",
       "      <th>count</th>\n",
       "      <td>39121.000000</td>\n",
       "      <td>3.912100e+04</td>\n",
       "      <td>39121.0</td>\n",
       "      <td>39121.000000</td>\n",
       "      <td>3.912100e+04</td>\n",
       "      <td>39121.0</td>\n",
       "      <td>39121.000000</td>\n",
       "    </tr>\n",
       "    <tr>\n",
       "      <th>mean</th>\n",
       "      <td>2019.129751</td>\n",
       "      <td>2.012407e+09</td>\n",
       "      <td>1.0</td>\n",
       "      <td>31883.348189</td>\n",
       "      <td>2.012407e+09</td>\n",
       "      <td>0.0</td>\n",
       "      <td>0.899594</td>\n",
       "    </tr>\n",
       "    <tr>\n",
       "      <th>std</th>\n",
       "      <td>0.336034</td>\n",
       "      <td>2.784618e+08</td>\n",
       "      <td>0.0</td>\n",
       "      <td>39642.802795</td>\n",
       "      <td>2.784618e+08</td>\n",
       "      <td>0.0</td>\n",
       "      <td>11.201311</td>\n",
       "    </tr>\n",
       "    <tr>\n",
       "      <th>min</th>\n",
       "      <td>2019.000000</td>\n",
       "      <td>1.928502e+09</td>\n",
       "      <td>1.0</td>\n",
       "      <td>0.530000</td>\n",
       "      <td>1.928502e+09</td>\n",
       "      <td>0.0</td>\n",
       "      <td>-120.000000</td>\n",
       "    </tr>\n",
       "    <tr>\n",
       "      <th>25%</th>\n",
       "      <td>2019.000000</td>\n",
       "      <td>1.929175e+09</td>\n",
       "      <td>1.0</td>\n",
       "      <td>4591.350000</td>\n",
       "      <td>1.929175e+09</td>\n",
       "      <td>0.0</td>\n",
       "      <td>-3.000000</td>\n",
       "    </tr>\n",
       "    <tr>\n",
       "      <th>50%</th>\n",
       "      <td>2019.000000</td>\n",
       "      <td>1.929727e+09</td>\n",
       "      <td>1.0</td>\n",
       "      <td>17164.800000</td>\n",
       "      <td>1.929727e+09</td>\n",
       "      <td>0.0</td>\n",
       "      <td>0.000000</td>\n",
       "    </tr>\n",
       "    <tr>\n",
       "      <th>75%</th>\n",
       "      <td>2019.000000</td>\n",
       "      <td>1.930207e+09</td>\n",
       "      <td>1.0</td>\n",
       "      <td>46015.180000</td>\n",
       "      <td>1.930207e+09</td>\n",
       "      <td>0.0</td>\n",
       "      <td>2.000000</td>\n",
       "    </tr>\n",
       "    <tr>\n",
       "      <th>max</th>\n",
       "      <td>2020.000000</td>\n",
       "      <td>2.960617e+09</td>\n",
       "      <td>1.0</td>\n",
       "      <td>624300.230000</td>\n",
       "      <td>2.960617e+09</td>\n",
       "      <td>0.0</td>\n",
       "      <td>300.000000</td>\n",
       "    </tr>\n",
       "  </tbody>\n",
       "</table>\n",
       "</div>"
      ],
      "text/plain": [
       "       buisness_year        doc_id  ...   isOpen        target\n",
       "count   39121.000000  3.912100e+04  ...  39121.0  39121.000000\n",
       "mean     2019.129751  2.012407e+09  ...      0.0      0.899594\n",
       "std         0.336034  2.784618e+08  ...      0.0     11.201311\n",
       "min      2019.000000  1.928502e+09  ...      0.0   -120.000000\n",
       "25%      2019.000000  1.929175e+09  ...      0.0     -3.000000\n",
       "50%      2019.000000  1.929727e+09  ...      0.0      0.000000\n",
       "75%      2019.000000  1.930207e+09  ...      0.0      2.000000\n",
       "max      2020.000000  2.960617e+09  ...      0.0    300.000000\n",
       "\n",
       "[8 rows x 7 columns]"
      ]
     },
     "execution_count": 92,
     "metadata": {
      "tags": []
     },
     "output_type": "execute_result"
    }
   ],
   "source": [
    "x_train.describe()"
   ]
  },
  {
   "cell_type": "code",
   "execution_count": 93,
   "metadata": {
    "id": "jcYF2Jl5fkwE"
   },
   "outputs": [],
   "source": [
    "# we get to see that posting_id and document type both have just one value for all data, so we remove them.\n",
    "X_train = x_train.drop(['posting_id', 'document type'], axis = 1)\n",
    "X_test = x_test.drop(['posting_id', 'document type'], axis = 1)"
   ]
  },
  {
   "cell_type": "code",
   "execution_count": 94,
   "metadata": {
    "colab": {
     "base_uri": "https://localhost:8080/",
     "height": 290
    },
    "id": "lZu2qx9ifwDy",
    "outputId": "5815c534-a594-423f-84d5-8c01eee4d55a"
   },
   "outputs": [
    {
     "data": {
      "text/html": [
       "<div>\n",
       "<style scoped>\n",
       "    .dataframe tbody tr th:only-of-type {\n",
       "        vertical-align: middle;\n",
       "    }\n",
       "\n",
       "    .dataframe tbody tr th {\n",
       "        vertical-align: top;\n",
       "    }\n",
       "\n",
       "    .dataframe thead th {\n",
       "        text-align: right;\n",
       "    }\n",
       "</style>\n",
       "<table border=\"1\" class=\"dataframe\">\n",
       "  <thead>\n",
       "    <tr style=\"text-align: right;\">\n",
       "      <th></th>\n",
       "      <th>business_code</th>\n",
       "      <th>cust_number</th>\n",
       "      <th>name_customer</th>\n",
       "      <th>clear_date</th>\n",
       "      <th>buisness_year</th>\n",
       "      <th>doc_id</th>\n",
       "      <th>posting_date</th>\n",
       "      <th>document_create_date</th>\n",
       "      <th>due_in_date</th>\n",
       "      <th>invoice_currency</th>\n",
       "      <th>total_open_amount</th>\n",
       "      <th>baseline_create_date</th>\n",
       "      <th>cust_payment_terms</th>\n",
       "      <th>invoice_id</th>\n",
       "      <th>isOpen</th>\n",
       "      <th>target</th>\n",
       "    </tr>\n",
       "  </thead>\n",
       "  <tbody>\n",
       "    <tr>\n",
       "      <th>0</th>\n",
       "      <td>U001</td>\n",
       "      <td>0200769623</td>\n",
       "      <td>WAL-MAR systems</td>\n",
       "      <td>2019-01-11</td>\n",
       "      <td>2019</td>\n",
       "      <td>1.928542e+09</td>\n",
       "      <td>2018-12-30</td>\n",
       "      <td>2018-12-29</td>\n",
       "      <td>2019-01-14</td>\n",
       "      <td>USD</td>\n",
       "      <td>23894.36</td>\n",
       "      <td>2018-12-30</td>\n",
       "      <td>NAH4</td>\n",
       "      <td>1.928542e+09</td>\n",
       "      <td>0</td>\n",
       "      <td>-3.0</td>\n",
       "    </tr>\n",
       "    <tr>\n",
       "      <th>1</th>\n",
       "      <td>U001</td>\n",
       "      <td>0200762301</td>\n",
       "      <td>C&amp;S WH foundation</td>\n",
       "      <td>2019-01-15</td>\n",
       "      <td>2019</td>\n",
       "      <td>1.928538e+09</td>\n",
       "      <td>2018-12-30</td>\n",
       "      <td>2018-12-29</td>\n",
       "      <td>2019-01-14</td>\n",
       "      <td>USD</td>\n",
       "      <td>52452.71</td>\n",
       "      <td>2018-12-30</td>\n",
       "      <td>NAC6</td>\n",
       "      <td>1.928538e+09</td>\n",
       "      <td>0</td>\n",
       "      <td>1.0</td>\n",
       "    </tr>\n",
       "    <tr>\n",
       "      <th>2</th>\n",
       "      <td>U001</td>\n",
       "      <td>0200769623</td>\n",
       "      <td>WAL-MAR</td>\n",
       "      <td>2019-01-09</td>\n",
       "      <td>2019</td>\n",
       "      <td>1.928540e+09</td>\n",
       "      <td>2018-12-30</td>\n",
       "      <td>2018-12-29</td>\n",
       "      <td>2019-01-14</td>\n",
       "      <td>USD</td>\n",
       "      <td>63.60</td>\n",
       "      <td>2018-12-30</td>\n",
       "      <td>NAH4</td>\n",
       "      <td>1.928540e+09</td>\n",
       "      <td>0</td>\n",
       "      <td>-5.0</td>\n",
       "    </tr>\n",
       "    <tr>\n",
       "      <th>3</th>\n",
       "      <td>U001</td>\n",
       "      <td>CCU013</td>\n",
       "      <td>KRAFT F corporation</td>\n",
       "      <td>2019-03-01</td>\n",
       "      <td>2019</td>\n",
       "      <td>1.928521e+09</td>\n",
       "      <td>2018-12-30</td>\n",
       "      <td>2018-12-31</td>\n",
       "      <td>2018-12-30</td>\n",
       "      <td>USD</td>\n",
       "      <td>3876.08</td>\n",
       "      <td>2018-12-30</td>\n",
       "      <td>NAX2</td>\n",
       "      <td>1.928521e+09</td>\n",
       "      <td>0</td>\n",
       "      <td>61.0</td>\n",
       "    </tr>\n",
       "    <tr>\n",
       "      <th>4</th>\n",
       "      <td>U001</td>\n",
       "      <td>0200749782</td>\n",
       "      <td>KROG foundation</td>\n",
       "      <td>2019-01-14</td>\n",
       "      <td>2019</td>\n",
       "      <td>1.928541e+09</td>\n",
       "      <td>2018-12-30</td>\n",
       "      <td>2018-12-29</td>\n",
       "      <td>2019-01-14</td>\n",
       "      <td>USD</td>\n",
       "      <td>40777.56</td>\n",
       "      <td>2018-12-30</td>\n",
       "      <td>NAA8</td>\n",
       "      <td>1.928541e+09</td>\n",
       "      <td>0</td>\n",
       "      <td>0.0</td>\n",
       "    </tr>\n",
       "  </tbody>\n",
       "</table>\n",
       "</div>"
      ],
      "text/plain": [
       "  business_code cust_number        name_customer  ...    invoice_id  isOpen  target\n",
       "0          U001  0200769623      WAL-MAR systems  ...  1.928542e+09       0    -3.0\n",
       "1          U001  0200762301    C&S WH foundation  ...  1.928538e+09       0     1.0\n",
       "2          U001  0200769623             WAL-MAR   ...  1.928540e+09       0    -5.0\n",
       "3          U001      CCU013  KRAFT F corporation  ...  1.928521e+09       0    61.0\n",
       "4          U001  0200749782      KROG foundation  ...  1.928541e+09       0     0.0\n",
       "\n",
       "[5 rows x 16 columns]"
      ]
     },
     "execution_count": 94,
     "metadata": {
      "tags": []
     },
     "output_type": "execute_result"
    }
   ],
   "source": [
    "X_train.head()"
   ]
  },
  {
   "cell_type": "code",
   "execution_count": 95,
   "metadata": {
    "colab": {
     "base_uri": "https://localhost:8080/"
    },
    "id": "F8cqP_Szmndt",
    "outputId": "f2ee9b1f-a428-4e5d-f038-d64e3a944062"
   },
   "outputs": [
    {
     "name": "stdout",
     "output_type": "stream",
     "text": [
      "  business_code    target\n",
      "0          CA02  6.153351\n",
      "1          U001  0.310800\n",
      "2          U002  6.500000\n",
      "3          U005  6.000000\n",
      "4          U007  3.333333\n",
      "5          U013  8.277886\n"
     ]
    }
   ],
   "source": [
    "z = pd.DataFrame(X_train.groupby(['business_code'], axis=0, as_index=False)['target'].mean())\n",
    "print(z)"
   ]
  },
  {
   "cell_type": "code",
   "execution_count": 96,
   "metadata": {
    "colab": {
     "base_uri": "https://localhost:8080/",
     "height": 406
    },
    "id": "TKqrhE5Sf-z5",
    "outputId": "289b2bf1-8a3e-422b-9fc2-54b81a4aa836"
   },
   "outputs": [
    {
     "data": {
      "text/plain": [
       "<matplotlib.axes._subplots.AxesSubplot at 0x7f48accaa490>"
      ]
     },
     "execution_count": 96,
     "metadata": {
      "tags": []
     },
     "output_type": "execute_result"
    },
    {
     "data": {
      "image/png": "[encoded data removed]",
      "text/plain": [
       "<Figure size 720x432 with 1 Axes>"
      ]
     },
     "metadata": {
      "needs_background": "light",
      "tags": []
     },
     "output_type": "display_data"
    }
   ],
   "source": [
    "# Grouping data by business_code and plotting it all into graph to see its variation.\n",
    "\n",
    "business_code_sns = pd.DataFrame(X_train.groupby(['business_code'], axis=0, as_index=False)['target'].mean())\n",
    "plt.figure(figsize=(10,6))\n",
    "sns.barplot(x=\"business_code\", y=\"target\",data=business_code_sns,linewidth=2.5, facecolor=(1, 1, 1, 0),\n",
    "                 errcolor=\".4\", edgecolor=\"red\")\n",
    "\n",
    "# The graph shows that U005 and U013 code are the ones that delay their payments."
   ]
  },
  {
   "cell_type": "code",
   "execution_count": 97,
   "metadata": {
    "id": "Uunec1jFnFH3"
   },
   "outputs": [],
   "source": [
    "# We can see that here we have invoice_currency as USD and CAD only.\n",
    "# Encoding the binary categorical column invoice_currency.\n",
    "# So basically we are just using 0 for USD and 1 for CAD\n",
    "\n",
    "X_train['invoice_currency'] = X_train['invoice_currency'].map({'USD': 0,'CAD': 1})\n",
    "X_test['invoice_currency'] = X_test['invoice_currency'].map({'USD': 0,'CAD': 1})"
   ]
  },
  {
   "cell_type": "code",
   "execution_count": 98,
   "metadata": {
    "colab": {
     "base_uri": "https://localhost:8080/",
     "height": 406
    },
    "id": "bjnRzLQZn38d",
    "outputId": "018a2ccb-15a6-4467-faf9-d9af0cdef219"
   },
   "outputs": [
    {
     "data": {
      "text/plain": [
       "<matplotlib.axes._subplots.AxesSubplot at 0x7f48a6c09110>"
      ]
     },
     "execution_count": 98,
     "metadata": {
      "tags": []
     },
     "output_type": "execute_result"
    },
    {
     "data": {
      "image/png": "[encoded data removed]",
      "text/plain": [
       "<Figure size 432x432 with 1 Axes>"
      ]
     },
     "metadata": {
      "needs_background": "light",
      "tags": []
     },
     "output_type": "display_data"
    }
   ],
   "source": [
    "invoice_currency_sns = pd.DataFrame(X_train.groupby(['invoice_currency'], axis=0, as_index=False)['target'].mean())\n",
    "plt.figure(figsize=(6,6))\n",
    "sns.barplot(x=\"invoice_currency\", y=\"target\",data=invoice_currency_sns,linewidth=2.5, facecolor=(1, 1, 1, 0),\n",
    "                 errcolor=\".2\", edgecolor=\"red\")\n",
    "\n",
    "# This shows that the clients that pay in USD currency does very less delay than those who do in CAD"
   ]
  },
  {
   "cell_type": "code",
   "execution_count": 99,
   "metadata": {
    "colab": {
     "base_uri": "https://localhost:8080/",
     "height": 579
    },
    "id": "Qu4Z2mIqqhtL",
    "outputId": "53ad2170-63c3-4f60-d727-c61e89fbb2f5"
   },
   "outputs": [
    {
     "name": "stderr",
     "output_type": "stream",
     "text": [
      "/usr/local/lib/python3.7/dist-packages/seaborn/distributions.py:2557: FutureWarning: `distplot` is a deprecated function and will be removed in a future version. Please adapt your code to use either `displot` (a figure-level function with similar flexibility) or `histplot` (an axes-level function for histograms).\n",
      "  warnings.warn(msg, FutureWarning)\n"
     ]
    },
    {
     "data": {
      "text/plain": [
       "<matplotlib.axes._subplots.AxesSubplot at 0x7f4899c27b50>"
      ]
     },
     "execution_count": 99,
     "metadata": {
      "tags": []
     },
     "output_type": "execute_result"
    },
    {
     "data": {
      "image/png": "[encoded data removed]",
      "text/plain": [
       "<Figure size 576x576 with 1 Axes>"
      ]
     },
     "metadata": {
      "needs_background": "light",
      "tags": []
     },
     "output_type": "display_data"
    }
   ],
   "source": [
    "plt.figure(figsize=(8,8))\n",
    "plt.figure(1)\n",
    "sns.distplot(X_train['total_open_amount'],color='red')\n",
    "\n",
    "# This shows the amount column is totally right skewed which puts strain on the bias of this data."
   ]
  },
  {
   "cell_type": "code",
   "execution_count": 100,
   "metadata": {
    "id": "iSpioODiqymT"
   },
   "outputs": [],
   "source": [
    "# Using log transformation to make it more 'normal' for better analysis\n",
    "def Transform(x):\n",
    "    return np.log(x)\n",
    "\n",
    "X_train['total_open_amount'] = X_train['total_open_amount'].apply(Transform)\n",
    "X_test['total_open_amount'] = X_test['total_open_amount'].apply(Transform)"
   ]
  },
  {
   "cell_type": "code",
   "execution_count": 101,
   "metadata": {
    "colab": {
     "base_uri": "https://localhost:8080/"
    },
    "id": "sdEcVvjbroMM",
    "outputId": "5ed5791b-7f53-47eb-b694-5cddc7fee523"
   },
   "outputs": [
    {
     "data": {
      "text/plain": [
       "1351"
      ]
     },
     "execution_count": 101,
     "metadata": {
      "tags": []
     },
     "output_type": "execute_result"
    }
   ],
   "source": [
    "# To get the unique number of customers\n",
    "X_train['cust_number'].nunique()"
   ]
  },
  {
   "cell_type": "code",
   "execution_count": 102,
   "metadata": {
    "colab": {
     "base_uri": "https://localhost:8080/"
    },
    "id": "syody4Ahr2lb",
    "outputId": "0e78ca74-e797-4c3c-d835-60ad60e9dd76"
   },
   "outputs": [
    {
     "data": {
      "text/plain": [
       "39121"
      ]
     },
     "execution_count": 102,
     "metadata": {
      "tags": []
     },
     "output_type": "execute_result"
    }
   ],
   "source": [
    "# To get the unique number of invoice_id\n",
    "# This pretty much doesnt give much info as its unique for each row\n",
    "X_train['invoice_id'].nunique()"
   ]
  },
  {
   "cell_type": "code",
   "execution_count": 103,
   "metadata": {
    "id": "Cuq-ORxYsDor"
   },
   "outputs": [],
   "source": [
    "# Dropping those columns which don't contribute anything for predictions.\n",
    "X_train = X_train.drop(['buisness_year', 'due_in_date', 'isOpen'], axis = 1)\n",
    "X_test = X_test.drop(['buisness_year', 'due_in_date', 'isOpen'], axis = 1)"
   ]
  },
  {
   "cell_type": "code",
   "execution_count": 104,
   "metadata": {
    "colab": {
     "base_uri": "https://localhost:8080/",
     "height": 117
    },
    "id": "JC1b1YGVsWMv",
    "outputId": "a5864f16-9730-483a-c972-77ed1310a8ca"
   },
   "outputs": [
    {
     "data": {
      "text/html": [
       "<div>\n",
       "<style scoped>\n",
       "    .dataframe tbody tr th:only-of-type {\n",
       "        vertical-align: middle;\n",
       "    }\n",
       "\n",
       "    .dataframe tbody tr th {\n",
       "        vertical-align: top;\n",
       "    }\n",
       "\n",
       "    .dataframe thead th {\n",
       "        text-align: right;\n",
       "    }\n",
       "</style>\n",
       "<table border=\"1\" class=\"dataframe\">\n",
       "  <thead>\n",
       "    <tr style=\"text-align: right;\">\n",
       "      <th></th>\n",
       "      <th>business_code</th>\n",
       "      <th>cust_number</th>\n",
       "      <th>name_customer</th>\n",
       "      <th>clear_date</th>\n",
       "      <th>doc_id</th>\n",
       "      <th>posting_date</th>\n",
       "      <th>document_create_date</th>\n",
       "      <th>invoice_currency</th>\n",
       "      <th>total_open_amount</th>\n",
       "      <th>baseline_create_date</th>\n",
       "      <th>cust_payment_terms</th>\n",
       "      <th>invoice_id</th>\n",
       "      <th>target</th>\n",
       "    </tr>\n",
       "  </thead>\n",
       "  <tbody>\n",
       "    <tr>\n",
       "      <th>0</th>\n",
       "      <td>U001</td>\n",
       "      <td>0200769623</td>\n",
       "      <td>WAL-MAR systems</td>\n",
       "      <td>2019-01-11</td>\n",
       "      <td>1.928542e+09</td>\n",
       "      <td>2018-12-30</td>\n",
       "      <td>2018-12-29</td>\n",
       "      <td>0</td>\n",
       "      <td>10.081398</td>\n",
       "      <td>2018-12-30</td>\n",
       "      <td>NAH4</td>\n",
       "      <td>1.928542e+09</td>\n",
       "      <td>-3.0</td>\n",
       "    </tr>\n",
       "  </tbody>\n",
       "</table>\n",
       "</div>"
      ],
      "text/plain": [
       "  business_code cust_number  ...    invoice_id target\n",
       "0          U001  0200769623  ...  1.928542e+09   -3.0\n",
       "\n",
       "[1 rows x 13 columns]"
      ]
     },
     "execution_count": 104,
     "metadata": {
      "tags": []
     },
     "output_type": "execute_result"
    }
   ],
   "source": [
    "X_train.head(1)"
   ]
  },
  {
   "cell_type": "code",
   "execution_count": 105,
   "metadata": {
    "colab": {
     "base_uri": "https://localhost:8080/",
     "height": 366
    },
    "id": "NC_H8xpBsdLk",
    "outputId": "1a7c8920-64b5-4c5f-f3ae-fa1b93ba7598"
   },
   "outputs": [
    {
     "name": "stderr",
     "output_type": "stream",
     "text": [
      "/usr/local/lib/python3.7/dist-packages/seaborn/distributions.py:2557: FutureWarning: `distplot` is a deprecated function and will be removed in a future version. Please adapt your code to use either `displot` (a figure-level function with similar flexibility) or `histplot` (an axes-level function for histograms).\n",
      "  warnings.warn(msg, FutureWarning)\n"
     ]
    },
    {
     "data": {
      "text/plain": [
       "<matplotlib.axes._subplots.AxesSubplot at 0x7f4899b80350>"
      ]
     },
     "execution_count": 105,
     "metadata": {
      "tags": []
     },
     "output_type": "execute_result"
    },
    {
     "data": {
      "text/plain": [
       "<Figure size 432x432 with 0 Axes>"
      ]
     },
     "metadata": {
      "tags": []
     },
     "output_type": "display_data"
    },
    {
     "data": {
      "image/png": "[encoded data removed]",
      "text/plain": [
       "<Figure size 432x288 with 1 Axes>"
      ]
     },
     "metadata": {
      "needs_background": "light",
      "tags": []
     },
     "output_type": "display_data"
    }
   ],
   "source": [
    "plt.figure(figsize=(6,6))\n",
    "plt.figure(2)\n",
    "sns.distplot(X_train['target'],color='blue')\n",
    "\n",
    "# This value is almost symmetric i.e. normalised already."
   ]
  },
  {
   "cell_type": "code",
   "execution_count": 106,
   "metadata": {
    "id": "_C0Ll4v3sxIm"
   },
   "outputs": [],
   "source": [
    "# In this we are trying to convert cust_number into the count of each cust_number\n",
    "# since cust_number is unique we had to perform this step so as to convert it into a feature\n",
    "\n",
    "def integers(x):\n",
    "    ref = dict(X_train['cust_number'].value_counts())\n",
    "    if ref.get(x):\n",
    "        return ref[x]\n",
    "\n",
    "X_train['cust_number'] = X_train['cust_number'].apply(integers)\n",
    "\n",
    "def integers_test(x):\n",
    "    ref = dict(X_test['cust_number'].value_counts())\n",
    "    if ref.get(x):\n",
    "        return ref[x]\n",
    "\n",
    "X_test['cust_number'] = X_test['cust_number'].apply(integers_test)"
   ]
  },
  {
   "cell_type": "code",
   "execution_count": 107,
   "metadata": {
    "colab": {
     "base_uri": "https://localhost:8080/",
     "height": 290
    },
    "id": "XfMmxfRgvJ2x",
    "outputId": "557d85c6-227b-4627-b6b5-757a6610f7f3"
   },
   "outputs": [
    {
     "data": {
      "text/html": [
       "<div>\n",
       "<style scoped>\n",
       "    .dataframe tbody tr th:only-of-type {\n",
       "        vertical-align: middle;\n",
       "    }\n",
       "\n",
       "    .dataframe tbody tr th {\n",
       "        vertical-align: top;\n",
       "    }\n",
       "\n",
       "    .dataframe thead th {\n",
       "        text-align: right;\n",
       "    }\n",
       "</style>\n",
       "<table border=\"1\" class=\"dataframe\">\n",
       "  <thead>\n",
       "    <tr style=\"text-align: right;\">\n",
       "      <th></th>\n",
       "      <th>business_code</th>\n",
       "      <th>cust_number</th>\n",
       "      <th>name_customer</th>\n",
       "      <th>clear_date</th>\n",
       "      <th>doc_id</th>\n",
       "      <th>posting_date</th>\n",
       "      <th>document_create_date</th>\n",
       "      <th>invoice_currency</th>\n",
       "      <th>total_open_amount</th>\n",
       "      <th>baseline_create_date</th>\n",
       "      <th>cust_payment_terms</th>\n",
       "      <th>invoice_id</th>\n",
       "      <th>target</th>\n",
       "    </tr>\n",
       "  </thead>\n",
       "  <tbody>\n",
       "    <tr>\n",
       "      <th>0</th>\n",
       "      <td>U001</td>\n",
       "      <td>8829</td>\n",
       "      <td>WAL-MAR systems</td>\n",
       "      <td>2019-01-11</td>\n",
       "      <td>1.928542e+09</td>\n",
       "      <td>2018-12-30</td>\n",
       "      <td>2018-12-29</td>\n",
       "      <td>0</td>\n",
       "      <td>10.081398</td>\n",
       "      <td>2018-12-30</td>\n",
       "      <td>NAH4</td>\n",
       "      <td>1.928542e+09</td>\n",
       "      <td>-3.0</td>\n",
       "    </tr>\n",
       "    <tr>\n",
       "      <th>1</th>\n",
       "      <td>U001</td>\n",
       "      <td>1152</td>\n",
       "      <td>C&amp;S WH foundation</td>\n",
       "      <td>2019-01-15</td>\n",
       "      <td>1.928538e+09</td>\n",
       "      <td>2018-12-30</td>\n",
       "      <td>2018-12-29</td>\n",
       "      <td>0</td>\n",
       "      <td>10.867667</td>\n",
       "      <td>2018-12-30</td>\n",
       "      <td>NAC6</td>\n",
       "      <td>1.928538e+09</td>\n",
       "      <td>1.0</td>\n",
       "    </tr>\n",
       "    <tr>\n",
       "      <th>2</th>\n",
       "      <td>U001</td>\n",
       "      <td>8829</td>\n",
       "      <td>WAL-MAR</td>\n",
       "      <td>2019-01-09</td>\n",
       "      <td>1.928540e+09</td>\n",
       "      <td>2018-12-30</td>\n",
       "      <td>2018-12-29</td>\n",
       "      <td>0</td>\n",
       "      <td>4.152613</td>\n",
       "      <td>2018-12-30</td>\n",
       "      <td>NAH4</td>\n",
       "      <td>1.928540e+09</td>\n",
       "      <td>-5.0</td>\n",
       "    </tr>\n",
       "    <tr>\n",
       "      <th>3</th>\n",
       "      <td>U001</td>\n",
       "      <td>544</td>\n",
       "      <td>KRAFT F corporation</td>\n",
       "      <td>2019-03-01</td>\n",
       "      <td>1.928521e+09</td>\n",
       "      <td>2018-12-30</td>\n",
       "      <td>2018-12-31</td>\n",
       "      <td>0</td>\n",
       "      <td>8.262580</td>\n",
       "      <td>2018-12-30</td>\n",
       "      <td>NAX2</td>\n",
       "      <td>1.928521e+09</td>\n",
       "      <td>61.0</td>\n",
       "    </tr>\n",
       "    <tr>\n",
       "      <th>4</th>\n",
       "      <td>U001</td>\n",
       "      <td>65</td>\n",
       "      <td>KROG foundation</td>\n",
       "      <td>2019-01-14</td>\n",
       "      <td>1.928541e+09</td>\n",
       "      <td>2018-12-30</td>\n",
       "      <td>2018-12-29</td>\n",
       "      <td>0</td>\n",
       "      <td>10.615887</td>\n",
       "      <td>2018-12-30</td>\n",
       "      <td>NAA8</td>\n",
       "      <td>1.928541e+09</td>\n",
       "      <td>0.0</td>\n",
       "    </tr>\n",
       "  </tbody>\n",
       "</table>\n",
       "</div>"
      ],
      "text/plain": [
       "  business_code  cust_number  ...    invoice_id target\n",
       "0          U001         8829  ...  1.928542e+09   -3.0\n",
       "1          U001         1152  ...  1.928538e+09    1.0\n",
       "2          U001         8829  ...  1.928540e+09   -5.0\n",
       "3          U001          544  ...  1.928521e+09   61.0\n",
       "4          U001           65  ...  1.928541e+09    0.0\n",
       "\n",
       "[5 rows x 13 columns]"
      ]
     },
     "execution_count": 107,
     "metadata": {
      "tags": []
     },
     "output_type": "execute_result"
    }
   ],
   "source": [
    "X_train.head()"
   ]
  },
  {
   "cell_type": "code",
   "execution_count": 108,
   "metadata": {
    "colab": {
     "base_uri": "https://localhost:8080/",
     "height": 290
    },
    "id": "vKL4OhL730yg",
    "outputId": "10a30c84-8d3d-4da1-9d79-175e3e09ab8b"
   },
   "outputs": [
    {
     "data": {
      "text/html": [
       "<div>\n",
       "<style scoped>\n",
       "    .dataframe tbody tr th:only-of-type {\n",
       "        vertical-align: middle;\n",
       "    }\n",
       "\n",
       "    .dataframe tbody tr th {\n",
       "        vertical-align: top;\n",
       "    }\n",
       "\n",
       "    .dataframe thead th {\n",
       "        text-align: right;\n",
       "    }\n",
       "</style>\n",
       "<table border=\"1\" class=\"dataframe\">\n",
       "  <thead>\n",
       "    <tr style=\"text-align: right;\">\n",
       "      <th></th>\n",
       "      <th>business_code</th>\n",
       "      <th>cust_number</th>\n",
       "      <th>name_customer</th>\n",
       "      <th>clear_date</th>\n",
       "      <th>doc_id</th>\n",
       "      <th>posting_date</th>\n",
       "      <th>document_create_date</th>\n",
       "      <th>invoice_currency</th>\n",
       "      <th>total_open_amount</th>\n",
       "      <th>baseline_create_date</th>\n",
       "      <th>cust_payment_terms</th>\n",
       "      <th>invoice_id</th>\n",
       "      <th>target</th>\n",
       "      <th>CA02</th>\n",
       "      <th>U001</th>\n",
       "      <th>U013</th>\n",
       "      <th>other</th>\n",
       "    </tr>\n",
       "  </thead>\n",
       "  <tbody>\n",
       "    <tr>\n",
       "      <th>0</th>\n",
       "      <td>U001</td>\n",
       "      <td>8829</td>\n",
       "      <td>WAL-MAR systems</td>\n",
       "      <td>2019-01-11</td>\n",
       "      <td>1.928542e+09</td>\n",
       "      <td>2018-12-30</td>\n",
       "      <td>2018-12-29</td>\n",
       "      <td>0</td>\n",
       "      <td>10.081398</td>\n",
       "      <td>2018-12-30</td>\n",
       "      <td>NAH4</td>\n",
       "      <td>1.928542e+09</td>\n",
       "      <td>-3.0</td>\n",
       "      <td>0</td>\n",
       "      <td>1</td>\n",
       "      <td>0</td>\n",
       "      <td>0</td>\n",
       "    </tr>\n",
       "    <tr>\n",
       "      <th>1</th>\n",
       "      <td>U001</td>\n",
       "      <td>1152</td>\n",
       "      <td>C&amp;S WH foundation</td>\n",
       "      <td>2019-01-15</td>\n",
       "      <td>1.928538e+09</td>\n",
       "      <td>2018-12-30</td>\n",
       "      <td>2018-12-29</td>\n",
       "      <td>0</td>\n",
       "      <td>10.867667</td>\n",
       "      <td>2018-12-30</td>\n",
       "      <td>NAC6</td>\n",
       "      <td>1.928538e+09</td>\n",
       "      <td>1.0</td>\n",
       "      <td>0</td>\n",
       "      <td>1</td>\n",
       "      <td>0</td>\n",
       "      <td>0</td>\n",
       "    </tr>\n",
       "    <tr>\n",
       "      <th>2</th>\n",
       "      <td>U001</td>\n",
       "      <td>8829</td>\n",
       "      <td>WAL-MAR</td>\n",
       "      <td>2019-01-09</td>\n",
       "      <td>1.928540e+09</td>\n",
       "      <td>2018-12-30</td>\n",
       "      <td>2018-12-29</td>\n",
       "      <td>0</td>\n",
       "      <td>4.152613</td>\n",
       "      <td>2018-12-30</td>\n",
       "      <td>NAH4</td>\n",
       "      <td>1.928540e+09</td>\n",
       "      <td>-5.0</td>\n",
       "      <td>0</td>\n",
       "      <td>1</td>\n",
       "      <td>0</td>\n",
       "      <td>0</td>\n",
       "    </tr>\n",
       "    <tr>\n",
       "      <th>3</th>\n",
       "      <td>U001</td>\n",
       "      <td>544</td>\n",
       "      <td>KRAFT F corporation</td>\n",
       "      <td>2019-03-01</td>\n",
       "      <td>1.928521e+09</td>\n",
       "      <td>2018-12-30</td>\n",
       "      <td>2018-12-31</td>\n",
       "      <td>0</td>\n",
       "      <td>8.262580</td>\n",
       "      <td>2018-12-30</td>\n",
       "      <td>NAX2</td>\n",
       "      <td>1.928521e+09</td>\n",
       "      <td>61.0</td>\n",
       "      <td>0</td>\n",
       "      <td>1</td>\n",
       "      <td>0</td>\n",
       "      <td>0</td>\n",
       "    </tr>\n",
       "    <tr>\n",
       "      <th>4</th>\n",
       "      <td>U001</td>\n",
       "      <td>65</td>\n",
       "      <td>KROG foundation</td>\n",
       "      <td>2019-01-14</td>\n",
       "      <td>1.928541e+09</td>\n",
       "      <td>2018-12-30</td>\n",
       "      <td>2018-12-29</td>\n",
       "      <td>0</td>\n",
       "      <td>10.615887</td>\n",
       "      <td>2018-12-30</td>\n",
       "      <td>NAA8</td>\n",
       "      <td>1.928541e+09</td>\n",
       "      <td>0.0</td>\n",
       "      <td>0</td>\n",
       "      <td>1</td>\n",
       "      <td>0</td>\n",
       "      <td>0</td>\n",
       "    </tr>\n",
       "  </tbody>\n",
       "</table>\n",
       "</div>"
      ],
      "text/plain": [
       "  business_code  cust_number        name_customer  ... U001  U013 other\n",
       "0          U001         8829      WAL-MAR systems  ...    1     0     0\n",
       "1          U001         1152    C&S WH foundation  ...    1     0     0\n",
       "2          U001         8829             WAL-MAR   ...    1     0     0\n",
       "3          U001          544  KRAFT F corporation  ...    1     0     0\n",
       "4          U001           65      KROG foundation  ...    1     0     0\n",
       "\n",
       "[5 rows x 17 columns]"
      ]
     },
     "execution_count": 108,
     "metadata": {
      "tags": []
     },
     "output_type": "execute_result"
    }
   ],
   "source": [
    "# It is clear that 'U002', 'U005', 'U007' business_codes are very much less in number and therefore we can merge them all under one field.\n",
    "# In the business_code column we can see they are categorical ones, so we make new feature out of them.\n",
    "\n",
    "X_train = X_train.replace(['U002', 'U005', 'U007'], 'other')\n",
    "X_test = X_test.replace(['U002', 'U005', 'U007'], 'other')\n",
    "\n",
    "business = pd.get_dummies(X_train['business_code'])\n",
    "business1 = pd.get_dummies(X_test['business_code'])\n",
    "\n",
    "X_train = pd.concat([X_train, business], axis=1)\n",
    "X_test = pd.concat([X_test, business1], axis=1)\n",
    "\n",
    "X_train.head()"
   ]
  },
  {
   "cell_type": "code",
   "execution_count": 109,
   "metadata": {
    "id": "28Perr5gwvi-"
   },
   "outputs": [],
   "source": [
    "# creating a new feature from baseline column.\n",
    "X_train['baseline_quater']= pd.to_datetime(X_train['baseline_create_date']).dt.quarter\n",
    "X_test['baseline_quater']= pd.to_datetime(X_test['baseline_create_date']).dt.quarter"
   ]
  },
  {
   "cell_type": "code",
   "execution_count": 110,
   "metadata": {
    "colab": {
     "base_uri": "https://localhost:8080/",
     "height": 970
    },
    "id": "_0CoEAhBzmQl",
    "outputId": "e1507aa1-039b-49ca-8f11-faedfd0f47df"
   },
   "outputs": [
    {
     "data": {
      "text/plain": [
       "<matplotlib.axes._subplots.AxesSubplot at 0x7f4899b404d0>"
      ]
     },
     "execution_count": 110,
     "metadata": {
      "tags": []
     },
     "output_type": "execute_result"
    },
    {
     "data": {
      "image/png": "[encoded data removed]",
      "text/plain": [
       "<Figure size 1080x1080 with 2 Axes>"
      ]
     },
     "metadata": {
      "needs_background": "light",
      "tags": []
     },
     "output_type": "display_data"
    }
   ],
   "source": [
    "plt.figure(figsize=(15,15))\n",
    "sns.heatmap(X_train.corr(),annot=True,cmap='viridis',linewidths=.5)"
   ]
  },
  {
   "cell_type": "code",
   "execution_count": 111,
   "metadata": {
    "colab": {
     "base_uri": "https://localhost:8080/",
     "height": 290
    },
    "id": "xBeIHQwz0p_z",
    "outputId": "cb4cd7f2-9fa0-48dd-ce07-24adf0ecbf07"
   },
   "outputs": [
    {
     "data": {
      "text/html": [
       "<div>\n",
       "<style scoped>\n",
       "    .dataframe tbody tr th:only-of-type {\n",
       "        vertical-align: middle;\n",
       "    }\n",
       "\n",
       "    .dataframe tbody tr th {\n",
       "        vertical-align: top;\n",
       "    }\n",
       "\n",
       "    .dataframe thead th {\n",
       "        text-align: right;\n",
       "    }\n",
       "</style>\n",
       "<table border=\"1\" class=\"dataframe\">\n",
       "  <thead>\n",
       "    <tr style=\"text-align: right;\">\n",
       "      <th></th>\n",
       "      <th>business_code</th>\n",
       "      <th>cust_number</th>\n",
       "      <th>name_customer</th>\n",
       "      <th>clear_date</th>\n",
       "      <th>doc_id</th>\n",
       "      <th>posting_date</th>\n",
       "      <th>document_create_date</th>\n",
       "      <th>invoice_currency</th>\n",
       "      <th>total_open_amount</th>\n",
       "      <th>baseline_create_date</th>\n",
       "      <th>cust_payment_terms</th>\n",
       "      <th>invoice_id</th>\n",
       "      <th>target</th>\n",
       "      <th>CA02</th>\n",
       "      <th>U001</th>\n",
       "      <th>U013</th>\n",
       "      <th>other</th>\n",
       "      <th>baseline_quater</th>\n",
       "    </tr>\n",
       "  </thead>\n",
       "  <tbody>\n",
       "    <tr>\n",
       "      <th>0</th>\n",
       "      <td>U001</td>\n",
       "      <td>8829</td>\n",
       "      <td>WAL-MAR systems</td>\n",
       "      <td>2019-01-11</td>\n",
       "      <td>1.928542e+09</td>\n",
       "      <td>2018-12-30</td>\n",
       "      <td>2018-12-29</td>\n",
       "      <td>0</td>\n",
       "      <td>10.081398</td>\n",
       "      <td>2018-12-30</td>\n",
       "      <td>NAH4</td>\n",
       "      <td>1.928542e+09</td>\n",
       "      <td>-3.0</td>\n",
       "      <td>0</td>\n",
       "      <td>1</td>\n",
       "      <td>0</td>\n",
       "      <td>0</td>\n",
       "      <td>4</td>\n",
       "    </tr>\n",
       "    <tr>\n",
       "      <th>1</th>\n",
       "      <td>U001</td>\n",
       "      <td>1152</td>\n",
       "      <td>C&amp;S WH foundation</td>\n",
       "      <td>2019-01-15</td>\n",
       "      <td>1.928538e+09</td>\n",
       "      <td>2018-12-30</td>\n",
       "      <td>2018-12-29</td>\n",
       "      <td>0</td>\n",
       "      <td>10.867667</td>\n",
       "      <td>2018-12-30</td>\n",
       "      <td>NAC6</td>\n",
       "      <td>1.928538e+09</td>\n",
       "      <td>1.0</td>\n",
       "      <td>0</td>\n",
       "      <td>1</td>\n",
       "      <td>0</td>\n",
       "      <td>0</td>\n",
       "      <td>4</td>\n",
       "    </tr>\n",
       "    <tr>\n",
       "      <th>2</th>\n",
       "      <td>U001</td>\n",
       "      <td>8829</td>\n",
       "      <td>WAL-MAR</td>\n",
       "      <td>2019-01-09</td>\n",
       "      <td>1.928540e+09</td>\n",
       "      <td>2018-12-30</td>\n",
       "      <td>2018-12-29</td>\n",
       "      <td>0</td>\n",
       "      <td>4.152613</td>\n",
       "      <td>2018-12-30</td>\n",
       "      <td>NAH4</td>\n",
       "      <td>1.928540e+09</td>\n",
       "      <td>-5.0</td>\n",
       "      <td>0</td>\n",
       "      <td>1</td>\n",
       "      <td>0</td>\n",
       "      <td>0</td>\n",
       "      <td>4</td>\n",
       "    </tr>\n",
       "    <tr>\n",
       "      <th>3</th>\n",
       "      <td>U001</td>\n",
       "      <td>544</td>\n",
       "      <td>KRAFT F corporation</td>\n",
       "      <td>2019-03-01</td>\n",
       "      <td>1.928521e+09</td>\n",
       "      <td>2018-12-30</td>\n",
       "      <td>2018-12-31</td>\n",
       "      <td>0</td>\n",
       "      <td>8.262580</td>\n",
       "      <td>2018-12-30</td>\n",
       "      <td>NAX2</td>\n",
       "      <td>1.928521e+09</td>\n",
       "      <td>61.0</td>\n",
       "      <td>0</td>\n",
       "      <td>1</td>\n",
       "      <td>0</td>\n",
       "      <td>0</td>\n",
       "      <td>4</td>\n",
       "    </tr>\n",
       "    <tr>\n",
       "      <th>4</th>\n",
       "      <td>U001</td>\n",
       "      <td>65</td>\n",
       "      <td>KROG foundation</td>\n",
       "      <td>2019-01-14</td>\n",
       "      <td>1.928541e+09</td>\n",
       "      <td>2018-12-30</td>\n",
       "      <td>2018-12-29</td>\n",
       "      <td>0</td>\n",
       "      <td>10.615887</td>\n",
       "      <td>2018-12-30</td>\n",
       "      <td>NAA8</td>\n",
       "      <td>1.928541e+09</td>\n",
       "      <td>0.0</td>\n",
       "      <td>0</td>\n",
       "      <td>1</td>\n",
       "      <td>0</td>\n",
       "      <td>0</td>\n",
       "      <td>4</td>\n",
       "    </tr>\n",
       "  </tbody>\n",
       "</table>\n",
       "</div>"
      ],
      "text/plain": [
       "  business_code  cust_number        name_customer  ... U013  other baseline_quater\n",
       "0          U001         8829      WAL-MAR systems  ...    0      0               4\n",
       "1          U001         1152    C&S WH foundation  ...    0      0               4\n",
       "2          U001         8829             WAL-MAR   ...    0      0               4\n",
       "3          U001          544  KRAFT F corporation  ...    0      0               4\n",
       "4          U001           65      KROG foundation  ...    0      0               4\n",
       "\n",
       "[5 rows x 18 columns]"
      ]
     },
     "execution_count": 111,
     "metadata": {
      "tags": []
     },
     "output_type": "execute_result"
    }
   ],
   "source": [
    "X_train.head()"
   ]
  },
  {
   "cell_type": "code",
   "execution_count": 112,
   "metadata": {
    "id": "8JV5-eZ00P0U"
   },
   "outputs": [],
   "source": [
    "# dropping columns that won't help in predictions. Note on feature has high correlation with target variable.\n",
    "X_train = X_train.drop(['doc_id', 'invoice_id','business_code', 'name_customer', 'clear_date',\n",
    "                       'posting_date', 'document_create_date', 'baseline_create_date', 'cust_payment_terms'], axis = 1)\n",
    "\n",
    "# Notice that i have removed one extra column in test data i.e. target column because that is what we need to find out.\n",
    "X_test = X_test.drop(['doc_id', 'invoice_id','business_code', 'name_customer', 'clear_date',\n",
    "                       'posting_date', 'document_create_date', 'baseline_create_date', 'cust_payment_terms', 'target'], axis = 1)"
   ]
  },
  {
   "cell_type": "code",
   "execution_count": 113,
   "metadata": {
    "colab": {
     "base_uri": "https://localhost:8080/",
     "height": 80
    },
    "id": "JzWqVrZF1GpB",
    "outputId": "c1233e92-16fb-464a-aa39-d26d74fe404f"
   },
   "outputs": [
    {
     "data": {
      "text/html": [
       "<div>\n",
       "<style scoped>\n",
       "    .dataframe tbody tr th:only-of-type {\n",
       "        vertical-align: middle;\n",
       "    }\n",
       "\n",
       "    .dataframe tbody tr th {\n",
       "        vertical-align: top;\n",
       "    }\n",
       "\n",
       "    .dataframe thead th {\n",
       "        text-align: right;\n",
       "    }\n",
       "</style>\n",
       "<table border=\"1\" class=\"dataframe\">\n",
       "  <thead>\n",
       "    <tr style=\"text-align: right;\">\n",
       "      <th></th>\n",
       "      <th>cust_number</th>\n",
       "      <th>invoice_currency</th>\n",
       "      <th>total_open_amount</th>\n",
       "      <th>target</th>\n",
       "      <th>CA02</th>\n",
       "      <th>U001</th>\n",
       "      <th>U013</th>\n",
       "      <th>other</th>\n",
       "      <th>baseline_quater</th>\n",
       "    </tr>\n",
       "  </thead>\n",
       "  <tbody>\n",
       "    <tr>\n",
       "      <th>0</th>\n",
       "      <td>8829</td>\n",
       "      <td>0</td>\n",
       "      <td>10.081398</td>\n",
       "      <td>-3.0</td>\n",
       "      <td>0</td>\n",
       "      <td>1</td>\n",
       "      <td>0</td>\n",
       "      <td>0</td>\n",
       "      <td>4</td>\n",
       "    </tr>\n",
       "  </tbody>\n",
       "</table>\n",
       "</div>"
      ],
      "text/plain": [
       "   cust_number  invoice_currency  ...  other  baseline_quater\n",
       "0         8829                 0  ...      0                4\n",
       "\n",
       "[1 rows x 9 columns]"
      ]
     },
     "execution_count": 113,
     "metadata": {
      "tags": []
     },
     "output_type": "execute_result"
    }
   ],
   "source": [
    "X_train.head(1)"
   ]
  },
  {
   "cell_type": "code",
   "execution_count": 114,
   "metadata": {
    "colab": {
     "base_uri": "https://localhost:8080/",
     "height": 80
    },
    "id": "NI--BZoT1O_5",
    "outputId": "e5c5012d-6488-4121-96a5-c98b238ccd12"
   },
   "outputs": [
    {
     "data": {
      "text/html": [
       "<div>\n",
       "<style scoped>\n",
       "    .dataframe tbody tr th:only-of-type {\n",
       "        vertical-align: middle;\n",
       "    }\n",
       "\n",
       "    .dataframe tbody tr th {\n",
       "        vertical-align: top;\n",
       "    }\n",
       "\n",
       "    .dataframe thead th {\n",
       "        text-align: right;\n",
       "    }\n",
       "</style>\n",
       "<table border=\"1\" class=\"dataframe\">\n",
       "  <thead>\n",
       "    <tr style=\"text-align: right;\">\n",
       "      <th></th>\n",
       "      <th>cust_number</th>\n",
       "      <th>invoice_currency</th>\n",
       "      <th>total_open_amount</th>\n",
       "      <th>CA02</th>\n",
       "      <th>U001</th>\n",
       "      <th>U013</th>\n",
       "      <th>other</th>\n",
       "      <th>baseline_quater</th>\n",
       "    </tr>\n",
       "  </thead>\n",
       "  <tbody>\n",
       "    <tr>\n",
       "      <th>10065</th>\n",
       "      <td>7</td>\n",
       "      <td>0</td>\n",
       "      <td>11.553312</td>\n",
       "      <td>0</td>\n",
       "      <td>1</td>\n",
       "      <td>0</td>\n",
       "      <td>0</td>\n",
       "      <td>1</td>\n",
       "    </tr>\n",
       "  </tbody>\n",
       "</table>\n",
       "</div>"
      ],
      "text/plain": [
       "       cust_number  invoice_currency  ...  other  baseline_quater\n",
       "10065            7                 0  ...      0                1\n",
       "\n",
       "[1 rows x 8 columns]"
      ]
     },
     "execution_count": 114,
     "metadata": {
      "tags": []
     },
     "output_type": "execute_result"
    }
   ],
   "source": [
    "X_test.head(1)"
   ]
  },
  {
   "cell_type": "markdown",
   "metadata": {
    "id": "K-CXu3pB-iNv"
   },
   "source": [
    "# **Training and Splitting the data into Train, Validation and Test Data**"
   ]
  },
  {
   "cell_type": "code",
   "execution_count": 115,
   "metadata": {
    "id": "Ig9atQ4--sKo"
   },
   "outputs": [],
   "source": [
    "# Setting up our X and Y axis i.e. input(X axis) and output(Y axis) i.e. target value.\n",
    "# Splitting out training data into new Train data and Validation data.\n",
    "\n",
    "y = X_train['target']\n",
    "X_train = X_train.drop(['target'], axis = 1)\n",
    "Xtrain ,Xval, ytrain, yval = train_test_split(X_train, y, test_size = 0.2, random_state=0)"
   ]
  },
  {
   "cell_type": "code",
   "execution_count": 116,
   "metadata": {
    "colab": {
     "base_uri": "https://localhost:8080/"
    },
    "id": "vjcGWgn_AZS9",
    "outputId": "714e4b56-b440-49e1-959f-4848f7155262"
   },
   "outputs": [
    {
     "data": {
      "text/plain": [
       "0"
      ]
     },
     "execution_count": 116,
     "metadata": {
      "tags": []
     },
     "output_type": "execute_result"
    }
   ],
   "source": [
    "# checking if there are any Null values in our traing data Y axis(target value).\n",
    "\n",
    "ytrain.isnull().sum()"
   ]
  },
  {
   "cell_type": "code",
   "execution_count": 117,
   "metadata": {
    "colab": {
     "base_uri": "https://localhost:8080/"
    },
    "id": "_hWvP_xnAk3O",
    "outputId": "2094d41d-1146-41c5-d38b-003fb3b35a7a"
   },
   "outputs": [
    {
     "data": {
      "text/plain": [
       "cust_number          0\n",
       "invoice_currency     0\n",
       "total_open_amount    0\n",
       "CA02                 0\n",
       "U001                 0\n",
       "U013                 0\n",
       "other                0\n",
       "baseline_quater      0\n",
       "dtype: int64"
      ]
     },
     "execution_count": 117,
     "metadata": {
      "tags": []
     },
     "output_type": "execute_result"
    }
   ],
   "source": [
    "# checking if there are any Null values in our traing data X axis.\n",
    "\n",
    "Xtrain.isnull().sum()"
   ]
  },
  {
   "cell_type": "markdown",
   "metadata": {
    "id": "mY-AqBGPKntR"
   },
   "source": [
    "# **Random Forest Model**"
   ]
  },
  {
   "cell_type": "code",
   "execution_count": 118,
   "metadata": {
    "id": "Mn36vEkTBCgE"
   },
   "outputs": [],
   "source": [
    "# Creating the RandomForest model with number of trees = 500 to get better performance.\n",
    "\n",
    "RF_model = RandomForestRegressor(n_estimators=500)"
   ]
  },
  {
   "cell_type": "code",
   "execution_count": 119,
   "metadata": {
    "id": "4CBtGvrMD3am"
   },
   "outputs": [],
   "source": [
    "# Fit the model with our training data.\n",
    "RF_model.fit(Xtrain, ytrain)\n",
    "\n",
    "# predicting the output on the basis of validation data to check how our model will perform.\n",
    "predict = RF_model.predict(Xval)"
   ]
  },
  {
   "cell_type": "code",
   "execution_count": 120,
   "metadata": {
    "colab": {
     "base_uri": "https://localhost:8080/"
    },
    "id": "bZLpcKL7JNdI",
    "outputId": "1dbf7179-819c-4ed8-e8f9-9f73b44692d1"
   },
   "outputs": [
    {
     "name": "stdout",
     "output_type": "stream",
     "text": [
      "88.43 %\n"
     ]
    }
   ],
   "source": [
    "#Checking the accuracy of our model\n",
    "\n",
    "accuracy_train = round(RF_model.score(Xtrain, ytrain)*100,2)\n",
    "print(round(accuracy_train,2),'%')"
   ]
  },
  {
   "cell_type": "code",
   "execution_count": 121,
   "metadata": {
    "colab": {
     "base_uri": "https://localhost:8080/"
    },
    "id": "B-sWhaWjI7_H",
    "outputId": "13403453-c706-4d01-dd8d-73a1eebdce71"
   },
   "outputs": [
    {
     "name": "stdout",
     "output_type": "stream",
     "text": [
      "27.06 %\n"
     ]
    }
   ],
   "source": [
    "#Checking the accuracy of our model\n",
    "\n",
    "accuracy_val = round(RF_model.score(Xval, yval)*100,2)\n",
    "print(round(accuracy_val,2),'%')"
   ]
  },
  {
   "cell_type": "code",
   "execution_count": 122,
   "metadata": {
    "colab": {
     "base_uri": "https://localhost:8080/"
    },
    "id": "c1hDSO50GFOy",
    "outputId": "ed0a0592-29eb-4158-de4e-4aa87b472c47"
   },
   "outputs": [
    {
     "data": {
      "text/plain": [
       "array([ -0.868,   2.266,   2.152, ..., -11.36 ,  -6.88 ,   0.456])"
      ]
     },
     "execution_count": 122,
     "metadata": {
      "tags": []
     },
     "output_type": "execute_result"
    }
   ],
   "source": [
    "Output = RF_model.predict(X_test)\n",
    "Output"
   ]
  },
  {
   "cell_type": "markdown",
   "metadata": {
    "id": "xPd6yFYgN7iP"
   },
   "source": [
    "# **Exporting the model**"
   ]
  },
  {
   "cell_type": "code",
   "execution_count": 123,
   "metadata": {
    "id": "kAxv5l-CNzIM"
   },
   "outputs": [],
   "source": [
    "# Exporting the model\n",
    "\n",
    "import pickle\n",
    "\n",
    "Pkl_Filename = \"Pickle_RF_model.pkl\"\n",
    "\n",
    "with open(Pkl_Filename, 'wb') as file:\n",
    "    pickle.dump(RF_model, file)"
   ]
  }
 ],
 "metadata": {
  "colab": {
   "collapsed_sections": [],
   "name": "HighRadius_M1&2&3.ipynb",
   "provenance": []
  },
  "kernelspec": {
   "display_name": "Python 3",
   "language": "python",
   "name": "python3"
  },
  "language_info": {
   "codemirror_mode": {
    "name": "ipython",
    "version": 3
   },
   "file_extension": ".py",
   "mimetype": "text/x-python",
   "name": "python",
   "nbconvert_exporter": "python",
   "pygments_lexer": "ipython3",
   "version": "3.7.10"
  }
 },
 "nbformat": 4,
 "nbformat_minor": 1
}

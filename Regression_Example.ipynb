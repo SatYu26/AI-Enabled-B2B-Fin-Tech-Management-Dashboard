{
  "nbformat": 4,
  "nbformat_minor": 0,
  "metadata": {
    "colab": {
      "name": "Regression_Example.ipynb",
      "provenance": []
    },
    "kernelspec": {
      "name": "python3",
      "display_name": "Python 3"
    }
  },
  "cells": [
    {
      "cell_type": "markdown",
      "metadata": {
        "id": "xnyO11EMEqmk"
      },
      "source": [
        "# Regression Modeling Examples"
      ]
    },
    {
      "cell_type": "markdown",
      "metadata": {
        "id": "ZQHAd2XVShcx"
      },
      "source": [
        "## Importing Libraries"
      ]
    },
    {
      "cell_type": "code",
      "metadata": {
        "id": "0LlWejubIAak"
      },
      "source": [
        "# Filtering out the warnings after Cell Execution\n",
        "import warnings\n",
        "warnings.filterwarnings('ignore')"
      ],
      "execution_count": null,
      "outputs": []
    },
    {
      "cell_type": "code",
      "metadata": {
        "id": "XkcEsAsBEt7L"
      },
      "source": [
        "# Importing in Common Data Science Libraries\n",
        "import pandas as pd\n",
        "import numpy as np\n",
        "from sklearn.model_selection import train_test_split\n",
        "\n",
        "# Modeling & Accuracy Metrics\n",
        "from sklearn.linear_model import LinearRegression\n",
        "from sklearn.svm import SVR\n",
        "from sklearn.tree import DecisionTreeRegressor\n",
        "from sklearn.ensemble import RandomForestRegressor\n",
        "import xgboost as xgb\n",
        "from sklearn.datasets import load_boston\n",
        "from sklearn.metrics import mean_squared_error\n",
        "from sklearn.metrics import r2_score"
      ],
      "execution_count": null,
      "outputs": []
    },
    {
      "cell_type": "code",
      "metadata": {
        "id": "vnKqmpgxQ8gK"
      },
      "source": [
        "# Loading in from load_boston() function \n",
        "data = load_boston()"
      ],
      "execution_count": null,
      "outputs": []
    },
    {
      "cell_type": "markdown",
      "metadata": {
        "id": "uY1B4Kz8WUDr"
      },
      "source": [
        "## Splitting into Train and Test set"
      ]
    },
    {
      "cell_type": "code",
      "metadata": {
        "id": "cldQmjo5FIyW"
      },
      "source": [
        "# Splitting Data into Train and Test\n",
        "from sklearn.model_selection import train_test_split\n",
        "X_train, X_test, y_train, y_test = train_test_split(data.data, data.target)"
      ],
      "execution_count": null,
      "outputs": []
    },
    {
      "cell_type": "code",
      "metadata": {
        "colab": {
          "base_uri": "https://localhost:8080/"
        },
        "id": "7mLzm6IDGsxn",
        "outputId": "4b805733-e411-4a0d-dcbf-635d0c38a99d"
      },
      "source": [
        "# Shape of the X_train and X_test\n",
        "print(X_train.shape)\n",
        "print(X_test.shape)"
      ],
      "execution_count": null,
      "outputs": [
        {
          "output_type": "stream",
          "text": [
            "(379, 13)\n",
            "(127, 13)\n"
          ],
          "name": "stdout"
        }
      ]
    },
    {
      "cell_type": "markdown",
      "metadata": {
        "id": "rqUZAxEWSP5R"
      },
      "source": [
        "## Modeling"
      ]
    },
    {
      "cell_type": "markdown",
      "metadata": {
        "id": "XpDFqIqSCb1h"
      },
      "source": [
        "Note : <br>\n",
        "The Metric being used in Model Testing are - \n",
        "\n",
        "1. `MSE`: Mean Square Error. (measure of how well a regression line fits the data points)\n",
        "2. `r2 score`. (R-squared is a statistical measure of how close the data are to the fitted regression line.)\n",
        "\n"
      ]
    },
    {
      "cell_type": "code",
      "metadata": {
        "id": "uOBVogr9ZbGb"
      },
      "source": [
        "# Defining Lists to Store in the Results and Names of Algorithms\n",
        "MSE_Score = []\n",
        "R2_Score = []\n",
        "Algorithm = []"
      ],
      "execution_count": null,
      "outputs": []
    },
    {
      "cell_type": "markdown",
      "metadata": {
        "id": "vp1XxX-fWvDX"
      },
      "source": [
        "### **1. Linear Regression**"
      ]
    },
    {
      "cell_type": "code",
      "metadata": {
        "id": "VB5bMpq6GP8d"
      },
      "source": [
        "# Fitting Simple Linear Regression to the Training Set\n",
        "Algorithm.append('Linear Regression')\n",
        "clf = LinearRegression()\n",
        "clf.fit(X_train, y_train)\n",
        "\n",
        "# Predicting the Test Set Results\n",
        "predicted = clf.predict(X_test)"
      ],
      "execution_count": null,
      "outputs": []
    },
    {
      "cell_type": "code",
      "metadata": {
        "id": "wzTje-RfZjUM"
      },
      "source": [
        "# Appending the Scores For Visualisation at a Later Part\n",
        "MSE_Score.append(mean_squared_error(y_test, predicted))\n",
        "R2_Score.append(r2_score(y_test, predicted))"
      ],
      "execution_count": null,
      "outputs": []
    },
    {
      "cell_type": "markdown",
      "metadata": {
        "id": "ojQj8NWVIjau"
      },
      "source": [
        "### **2. Support Vector Regression**"
      ]
    },
    {
      "cell_type": "code",
      "metadata": {
        "id": "nR58bQIWIjau"
      },
      "source": [
        "# Fitting SVR to the Training Set\n",
        "Algorithm.append('Support Vector Regression')\n",
        "clf = SVR()\n",
        "clf.fit(X_train, y_train)\n",
        "\n",
        "# Predicting the Test Set Results\n",
        "predicted = clf.predict(X_test)"
      ],
      "execution_count": null,
      "outputs": []
    },
    {
      "cell_type": "code",
      "metadata": {
        "id": "Mv5g_I07agXx"
      },
      "source": [
        "# Appending the Scores For Visualisation at a Later Part\n",
        "MSE_Score.append(mean_squared_error(y_test, predicted))\n",
        "R2_Score.append(r2_score(y_test, predicted))"
      ],
      "execution_count": null,
      "outputs": []
    },
    {
      "cell_type": "markdown",
      "metadata": {
        "id": "7EJpSFaVatzN"
      },
      "source": [
        "### **3. Decision Tree Regressor**"
      ]
    },
    {
      "cell_type": "code",
      "metadata": {
        "id": "OIJETocSagiy"
      },
      "source": [
        "# Fitting Decision Tree to the Training Set\n",
        "Algorithm.append('Decision Tree Regressor')\n",
        "clf = DecisionTreeRegressor()\n",
        "clf.fit(X_train, y_train)\n",
        "\n",
        "# Predicting the Test Set Results\n",
        "predicted = clf.predict(X_test)"
      ],
      "execution_count": null,
      "outputs": []
    },
    {
      "cell_type": "code",
      "metadata": {
        "id": "njEMLWasbDG3"
      },
      "source": [
        "# Appending the Scores For Visualisation at a Later Part\n",
        "MSE_Score.append(mean_squared_error(y_test, predicted))\n",
        "R2_Score.append(r2_score(y_test, predicted))"
      ],
      "execution_count": null,
      "outputs": []
    },
    {
      "cell_type": "markdown",
      "metadata": {
        "id": "ksCC-RIAbIG2"
      },
      "source": [
        "### **4. Random Forest Regressor**"
      ]
    },
    {
      "cell_type": "code",
      "metadata": {
        "id": "rfgK2TtAbRWi"
      },
      "source": [
        "# Fitting Random Forest Regressor Tree to the Training Set\n",
        "Algorithm.append('Random Forest Regressor')\n",
        "clf = RandomForestRegressor()\n",
        "clf.fit(X_train, y_train)\n",
        "\n",
        "# Predicting the Test Set Results\n",
        "predicted = clf.predict(X_test)"
      ],
      "execution_count": null,
      "outputs": []
    },
    {
      "cell_type": "code",
      "metadata": {
        "id": "s05d86ATbg7U"
      },
      "source": [
        "# Appending the Scores For Visualisation at a Later Part\n",
        "MSE_Score.append(mean_squared_error(y_test, predicted))\n",
        "R2_Score.append(r2_score(y_test, predicted))"
      ],
      "execution_count": null,
      "outputs": []
    },
    {
      "cell_type": "markdown",
      "metadata": {
        "id": "MBOTeu_2bm4z"
      },
      "source": [
        "### **5. XGB Regressor**"
      ]
    },
    {
      "cell_type": "code",
      "metadata": {
        "id": "VfmrMJe4brYl"
      },
      "source": [
        "# Fitting XGBoost Regressor to the Training Set\n",
        "Algorithm.append('XGB Regressor')\n",
        "clf = xgb.XGBRegressor()\n",
        "clf.fit(X_train, y_train)\n",
        "\n",
        "# Predicting the Test Set Results\n",
        "predicted = clf.predict(X_test)"
      ],
      "execution_count": null,
      "outputs": []
    },
    {
      "cell_type": "code",
      "metadata": {
        "id": "YJCp_jD9b3Nk"
      },
      "source": [
        "# Appending the Scores For Visualisation at a Later Part\n",
        "MSE_Score.append(mean_squared_error(y_test, predicted))\n",
        "R2_Score.append(r2_score(y_test, predicted))"
      ],
      "execution_count": null,
      "outputs": []
    },
    {
      "cell_type": "markdown",
      "metadata": {
        "id": "SRE03p_kb9HN"
      },
      "source": [
        "## Score Card of the Models' Performances"
      ]
    },
    {
      "cell_type": "code",
      "metadata": {
        "id": "gxfNe_TQcApv"
      },
      "source": [
        "# Just Combining the Lists into a DataFrame for a Better Visualisation\n",
        "Comparison = pd.DataFrame(list(zip(Algorithm, MSE_Score, R2_Score)), columns = ['Algorithm', 'MSE_Score', 'R2_Score'])"
      ],
      "execution_count": null,
      "outputs": []
    },
    {
      "cell_type": "code",
      "metadata": {
        "id": "ijpK26_lceL6",
        "colab": {
          "base_uri": "https://localhost:8080/",
          "height": 195
        },
        "outputId": "467c2450-6c94-4e8c-ec67-ef42f1915e09"
      },
      "source": [
        "# Score Card\n",
        "Comparison"
      ],
      "execution_count": null,
      "outputs": [
        {
          "output_type": "execute_result",
          "data": {
            "text/html": [
              "<div>\n",
              "<style scoped>\n",
              "    .dataframe tbody tr th:only-of-type {\n",
              "        vertical-align: middle;\n",
              "    }\n",
              "\n",
              "    .dataframe tbody tr th {\n",
              "        vertical-align: top;\n",
              "    }\n",
              "\n",
              "    .dataframe thead th {\n",
              "        text-align: right;\n",
              "    }\n",
              "</style>\n",
              "<table border=\"1\" class=\"dataframe\">\n",
              "  <thead>\n",
              "    <tr style=\"text-align: right;\">\n",
              "      <th></th>\n",
              "      <th>Algorithm</th>\n",
              "      <th>MSE_Score</th>\n",
              "      <th>R2_Score</th>\n",
              "    </tr>\n",
              "  </thead>\n",
              "  <tbody>\n",
              "    <tr>\n",
              "      <th>0</th>\n",
              "      <td>Linear Regression</td>\n",
              "      <td>24.781720</td>\n",
              "      <td>0.724589</td>\n",
              "    </tr>\n",
              "    <tr>\n",
              "      <th>1</th>\n",
              "      <td>Support Vector Regression\\t</td>\n",
              "      <td>79.538238</td>\n",
              "      <td>0.116055</td>\n",
              "    </tr>\n",
              "    <tr>\n",
              "      <th>2</th>\n",
              "      <td>Decision Tree Regressor</td>\n",
              "      <td>27.153386</td>\n",
              "      <td>0.698232</td>\n",
              "    </tr>\n",
              "    <tr>\n",
              "      <th>3</th>\n",
              "      <td>Random Forest Regressor</td>\n",
              "      <td>13.786243</td>\n",
              "      <td>0.846787</td>\n",
              "    </tr>\n",
              "    <tr>\n",
              "      <th>4</th>\n",
              "      <td>XGB Regressor</td>\n",
              "      <td>11.819655</td>\n",
              "      <td>0.868643</td>\n",
              "    </tr>\n",
              "  </tbody>\n",
              "</table>\n",
              "</div>"
            ],
            "text/plain": [
              "                     Algorithm  MSE_Score  R2_Score\n",
              "0            Linear Regression  24.781720  0.724589\n",
              "1  Support Vector Regression\\t  79.538238  0.116055\n",
              "2      Decision Tree Regressor  27.153386  0.698232\n",
              "3      Random Forest Regressor  13.786243  0.846787\n",
              "4                XGB Regressor  11.819655  0.868643"
            ]
          },
          "metadata": {
            "tags": []
          },
          "execution_count": 22
        }
      ]
    },
    {
      "cell_type": "markdown",
      "metadata": {
        "id": "2SUebMGlXSRu"
      },
      "source": [
        "# End"
      ]
    }
  ]
}
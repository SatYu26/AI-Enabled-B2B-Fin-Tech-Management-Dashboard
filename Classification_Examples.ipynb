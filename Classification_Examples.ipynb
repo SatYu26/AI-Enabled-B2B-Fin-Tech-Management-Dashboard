{
  "nbformat": 4,
  "nbformat_minor": 0,
  "metadata": {
    "colab": {
      "name": "Classification Examples.ipynb",
      "provenance": [],
      "collapsed_sections": [
        "ZQHAd2XVShcx",
        "nwb_5wJxSstO",
        "ojQj8NWVIjau",
        "-lgsJcGkqkLQ",
        "vVNB972jqJez",
        "a-OIVjqqqJtd",
        "YR3IiUvEqKCC",
        "GzFEKzNQkmw_",
        "hzJFtHsZsUyb",
        "r2uo_XANX6Gy"
      ]
    },
    "kernelspec": {
      "name": "python3",
      "display_name": "Python 3"
    }
  },
  "cells": [
    {
      "cell_type": "markdown",
      "metadata": {
        "id": "xnyO11EMEqmk"
      },
      "source": [
        "# Classification Modeling Examples"
      ]
    },
    {
      "cell_type": "markdown",
      "metadata": {
        "id": "5o57Tjc0YFGR"
      },
      "source": [
        "* Here we'll be taking the example of `Titanic` Dataset and perform some Simple Base Classification Models on the Data.\n",
        "* We'll also note for change in performance of the Models according to the Model Specified.\n",
        "* Here we'll be predicting whether a person survived the `Titanic` Shipwreck or not, so it's a `Classification Problem`. (0 - The Person Didn't Survive, 1 - The Person Survived])"
      ]
    },
    {
      "cell_type": "markdown",
      "metadata": {
        "id": "ZQHAd2XVShcx"
      },
      "source": [
        "# Importing Libraries and Data"
      ]
    },
    {
      "cell_type": "code",
      "metadata": {
        "id": "XkcEsAsBEt7L"
      },
      "source": [
        "# Importing in Common Data Science Libraries\n",
        "import pandas as pd\n",
        "import numpy as np\n",
        "from sklearn.model_selection import train_test_split\n",
        "\n",
        "# Modeling & Accuracy Metrics\n",
        "from sklearn.linear_model import LogisticRegression\n",
        "from sklearn.svm import SVC\n",
        "from sklearn.neighbors import KNeighborsClassifier\n",
        "from sklearn.tree import DecisionTreeClassifier\n",
        "from sklearn.ensemble import RandomForestClassifier\n",
        "from xgboost import XGBClassifier\n",
        "from sklearn.metrics import classification_report, confusion_matrix"
      ],
      "execution_count": null,
      "outputs": []
    },
    {
      "cell_type": "code",
      "metadata": {
        "id": "vnKqmpgxQ8gK"
      },
      "source": [
        "# Reading in the Data\n",
        "data = pd.read_csv('titanic.csv')"
      ],
      "execution_count": null,
      "outputs": []
    },
    {
      "cell_type": "code",
      "metadata": {
        "colab": {
          "base_uri": "https://localhost:8080/",
          "height": 195
        },
        "id": "cldQmjo5FIyW",
        "outputId": "efe610fb-b39b-41ff-f905-cea65906c583"
      },
      "source": [
        "# Visualising the First 5 Records of Data\n",
        "data.head()"
      ],
      "execution_count": null,
      "outputs": [
        {
          "output_type": "execute_result",
          "data": {
            "text/plain": [
              "   PassengerId  Survived  Pclass  \\\n",
              "0            1         0       3   \n",
              "1            2         1       1   \n",
              "2            3         1       3   \n",
              "3            4         1       1   \n",
              "4            5         0       3   \n",
              "\n",
              "                                                Name     Sex  Age  SibSp  \\\n",
              "0                            Braund, Mr. Owen Harris    male   22      1   \n",
              "1  Cumings, Mrs. John Bradley (Florence Briggs Th...  female   38      1   \n",
              "2                             Heikkinen, Miss. Laina  female   26      0   \n",
              "3       Futrelle, Mrs. Jacques Heath (Lily May Peel)  female   35      1   \n",
              "4                           Allen, Mr. William Henry    male   35      0   \n",
              "\n",
              "   Parch            Ticket     Fare Embarked  \n",
              "0      0         A/5 21171   7.2500        S  \n",
              "1      0          PC 17599  71.2833        C  \n",
              "2      0  STON/O2. 3101282   7.9250        S  \n",
              "3      0            113803  53.1000        S  \n",
              "4      0            373450   8.0500        S  "
            ],
            "text/html": [
              "<div>\n",
              "<style scoped>\n",
              "    .dataframe tbody tr th:only-of-type {\n",
              "        vertical-align: middle;\n",
              "    }\n",
              "\n",
              "    .dataframe tbody tr th {\n",
              "        vertical-align: top;\n",
              "    }\n",
              "\n",
              "    .dataframe thead th {\n",
              "        text-align: right;\n",
              "    }\n",
              "</style>\n",
              "<table border=\"1\" class=\"dataframe\">\n",
              "  <thead>\n",
              "    <tr style=\"text-align: right;\">\n",
              "      <th></th>\n",
              "      <th>PassengerId</th>\n",
              "      <th>Survived</th>\n",
              "      <th>Pclass</th>\n",
              "      <th>Name</th>\n",
              "      <th>Sex</th>\n",
              "      <th>Age</th>\n",
              "      <th>SibSp</th>\n",
              "      <th>Parch</th>\n",
              "      <th>Ticket</th>\n",
              "      <th>Fare</th>\n",
              "      <th>Embarked</th>\n",
              "    </tr>\n",
              "  </thead>\n",
              "  <tbody>\n",
              "    <tr>\n",
              "      <th>0</th>\n",
              "      <td>1</td>\n",
              "      <td>0</td>\n",
              "      <td>3</td>\n",
              "      <td>Braund, Mr. Owen Harris</td>\n",
              "      <td>male</td>\n",
              "      <td>22</td>\n",
              "      <td>1</td>\n",
              "      <td>0</td>\n",
              "      <td>A/5 21171</td>\n",
              "      <td>7.2500</td>\n",
              "      <td>S</td>\n",
              "    </tr>\n",
              "    <tr>\n",
              "      <th>1</th>\n",
              "      <td>2</td>\n",
              "      <td>1</td>\n",
              "      <td>1</td>\n",
              "      <td>Cumings, Mrs. John Bradley (Florence Briggs Th...</td>\n",
              "      <td>female</td>\n",
              "      <td>38</td>\n",
              "      <td>1</td>\n",
              "      <td>0</td>\n",
              "      <td>PC 17599</td>\n",
              "      <td>71.2833</td>\n",
              "      <td>C</td>\n",
              "    </tr>\n",
              "    <tr>\n",
              "      <th>2</th>\n",
              "      <td>3</td>\n",
              "      <td>1</td>\n",
              "      <td>3</td>\n",
              "      <td>Heikkinen, Miss. Laina</td>\n",
              "      <td>female</td>\n",
              "      <td>26</td>\n",
              "      <td>0</td>\n",
              "      <td>0</td>\n",
              "      <td>STON/O2. 3101282</td>\n",
              "      <td>7.9250</td>\n",
              "      <td>S</td>\n",
              "    </tr>\n",
              "    <tr>\n",
              "      <th>3</th>\n",
              "      <td>4</td>\n",
              "      <td>1</td>\n",
              "      <td>1</td>\n",
              "      <td>Futrelle, Mrs. Jacques Heath (Lily May Peel)</td>\n",
              "      <td>female</td>\n",
              "      <td>35</td>\n",
              "      <td>1</td>\n",
              "      <td>0</td>\n",
              "      <td>113803</td>\n",
              "      <td>53.1000</td>\n",
              "      <td>S</td>\n",
              "    </tr>\n",
              "    <tr>\n",
              "      <th>4</th>\n",
              "      <td>5</td>\n",
              "      <td>0</td>\n",
              "      <td>3</td>\n",
              "      <td>Allen, Mr. William Henry</td>\n",
              "      <td>male</td>\n",
              "      <td>35</td>\n",
              "      <td>0</td>\n",
              "      <td>0</td>\n",
              "      <td>373450</td>\n",
              "      <td>8.0500</td>\n",
              "      <td>S</td>\n",
              "    </tr>\n",
              "  </tbody>\n",
              "</table>\n",
              "</div>"
            ]
          },
          "metadata": {
            "tags": []
          },
          "execution_count": 22
        }
      ]
    },
    {
      "cell_type": "code",
      "metadata": {
        "colab": {
          "base_uri": "https://localhost:8080/"
        },
        "id": "7mLzm6IDGsxn",
        "outputId": "ec8d597e-3496-4465-ff08-6f85ccec40e1"
      },
      "source": [
        "# Shape of the Dataframe\n",
        "data.shape"
      ],
      "execution_count": null,
      "outputs": [
        {
          "output_type": "execute_result",
          "data": {
            "text/plain": [
              "(891, 11)"
            ]
          },
          "metadata": {
            "tags": []
          },
          "execution_count": 23
        }
      ]
    },
    {
      "cell_type": "markdown",
      "metadata": {
        "id": "nwb_5wJxSstO"
      },
      "source": [
        "# Splitting the Data into Train - Test"
      ]
    },
    {
      "cell_type": "code",
      "metadata": {
        "id": "VB5bMpq6GP8d"
      },
      "source": [
        "# Splitting Data into Train and Test\n",
        "x_train, x_test, y_train, y_test = train_test_split(\n",
        "    data.drop('Survived', axis = 1),\n",
        "    data.Survived,\n",
        "    test_size = 0.25,\n",
        "    random_state = 0\n",
        ")"
      ],
      "execution_count": null,
      "outputs": []
    },
    {
      "cell_type": "markdown",
      "metadata": {
        "id": "rqUZAxEWSP5R"
      },
      "source": [
        "# ML Modeling"
      ]
    },
    {
      "cell_type": "markdown",
      "metadata": {
        "id": "XpDFqIqSCb1h"
      },
      "source": [
        "Note : <br>\n",
        "The Metrics being used in Base Model Testing : \n",
        "\n",
        "1.   Accuracy\n",
        "2.   Recall\n",
        "3.   Precision\n",
        "4.   F1 - Score\n",
        "\n",
        "Using the Following - \n",
        "\n",
        "1.   Classification Report\n",
        "2.   Confusion Matrix\n",
        "\n"
      ]
    },
    {
      "cell_type": "code",
      "metadata": {
        "id": "QwRYPCB8Xxsb",
        "colab": {
          "base_uri": "https://localhost:8080/"
        },
        "outputId": "1b8cc2d8-d995-4b2a-bc7a-78824bfa4485"
      },
      "source": [
        "# Sizes of the DataFrames we're going to do Operations on\n",
        "print(f\"X-Train = {len(x_train)}, Y-Train = {len(y_train)}\")\n",
        "print(f\"X-Test = {len(x_test)}, Y-Test = {len(y_test)}\")"
      ],
      "execution_count": null,
      "outputs": [
        {
          "output_type": "stream",
          "text": [
            "X-Train = 668, Y-Train = 668\n",
            "X-Test = 223, Y-Test = 223\n"
          ],
          "name": "stdout"
        }
      ]
    },
    {
      "cell_type": "markdown",
      "metadata": {
        "id": "ojQj8NWVIjau"
      },
      "source": [
        "## **1. Logistic Regression Classifier**"
      ]
    },
    {
      "cell_type": "code",
      "metadata": {
        "id": "nR58bQIWIjau",
        "colab": {
          "base_uri": "https://localhost:8080/"
        },
        "outputId": "362046d3-2945-4f2d-e2be-6bb5fbd149eb"
      },
      "source": [
        "# Fitting Logistic Regression to the Training Set\n",
        "classifier = LogisticRegression()\n",
        "classifier.fit(x_train, y_train)"
      ],
      "execution_count": null,
      "outputs": [
        {
          "output_type": "execute_result",
          "data": {
            "text/plain": [
              "LogisticRegression()"
            ]
          },
          "metadata": {
            "tags": []
          },
          "execution_count": 36
        }
      ]
    },
    {
      "cell_type": "code",
      "metadata": {
        "id": "j86KN2kiSCfw",
        "colab": {
          "base_uri": "https://localhost:8080/"
        },
        "outputId": "cedcb962-fca7-4c32-dd61-817e24096717"
      },
      "source": [
        "# Predicting the Test Set Results\n",
        "y_pred = classifier.predict(x_test)\n",
        "y_pred[:10]"
      ],
      "execution_count": null,
      "outputs": [
        {
          "output_type": "execute_result",
          "data": {
            "text/plain": [
              "array([0, 0, 0, 1, 1, 0, 1, 1, 1, 1], dtype=int64)"
            ]
          },
          "metadata": {
            "tags": []
          },
          "execution_count": 38
        }
      ]
    },
    {
      "cell_type": "markdown",
      "metadata": {
        "id": "-xEECPYGgT_4"
      },
      "source": [
        "__Checking Accuracies__"
      ]
    },
    {
      "cell_type": "code",
      "metadata": {
        "colab": {
          "base_uri": "https://localhost:8080/"
        },
        "id": "HcHs1spDIdR8",
        "outputId": "067eba8d-80da-4e79-9ac7-1f2131219a6c"
      },
      "source": [
        "# Confusion Matrix\n",
        "confusion_matrix(y_test, y_pred)"
      ],
      "execution_count": null,
      "outputs": [
        {
          "output_type": "execute_result",
          "data": {
            "text/plain": [
              "array([[118,  21],\n",
              "       [ 26,  58]], dtype=int64)"
            ]
          },
          "metadata": {
            "tags": []
          },
          "execution_count": 39
        }
      ]
    },
    {
      "cell_type": "code",
      "metadata": {
        "id": "FPVzN0GMjcNZ",
        "colab": {
          "base_uri": "https://localhost:8080/"
        },
        "outputId": "f9ac0e73-5a8b-40f4-b331-fe6c2a90431f"
      },
      "source": [
        "# Classification Report\n",
        "print(classification_report(y_test, y_pred))"
      ],
      "execution_count": null,
      "outputs": [
        {
          "output_type": "stream",
          "text": [
            "              precision    recall  f1-score   support\n",
            "\n",
            "           0       0.82      0.85      0.83       139\n",
            "           1       0.73      0.69      0.71        84\n",
            "\n",
            "    accuracy                           0.79       223\n",
            "   macro avg       0.78      0.77      0.77       223\n",
            "weighted avg       0.79      0.79      0.79       223\n",
            "\n"
          ],
          "name": "stdout"
        }
      ]
    },
    {
      "cell_type": "markdown",
      "metadata": {
        "id": "-lgsJcGkqkLQ"
      },
      "source": [
        "## <b> 2. Kernel - SVM Classifier"
      ]
    },
    {
      "cell_type": "code",
      "metadata": {
        "id": "1yKHplaIqjDe",
        "colab": {
          "base_uri": "https://localhost:8080/"
        },
        "outputId": "08fecf9e-99c1-4559-cb54-b89c6ab4e25e"
      },
      "source": [
        "# Fitting Kernel SVM to the Training Set\n",
        "classifier = SVC(kernel = 'rbf')\n",
        "classifier.fit(x_train, y_train)"
      ],
      "execution_count": null,
      "outputs": [
        {
          "output_type": "execute_result",
          "data": {
            "text/plain": [
              "SVC()"
            ]
          },
          "metadata": {
            "tags": []
          },
          "execution_count": 46
        }
      ]
    },
    {
      "cell_type": "code",
      "metadata": {
        "id": "J4hyV-kKqsDr",
        "colab": {
          "base_uri": "https://localhost:8080/"
        },
        "outputId": "1f60492f-eb1f-452f-d700-ea2310678d14"
      },
      "source": [
        "# Predicting the Test Set Results\n",
        "y_pred = classifier.predict(x_test)\n",
        "y_pred[:10]"
      ],
      "execution_count": null,
      "outputs": [
        {
          "output_type": "execute_result",
          "data": {
            "text/plain": [
              "array([0, 0, 0, 1, 0, 0, 1, 1, 1, 0], dtype=int64)"
            ]
          },
          "metadata": {
            "tags": []
          },
          "execution_count": 48
        }
      ]
    },
    {
      "cell_type": "markdown",
      "metadata": {
        "id": "Kw6auz9KqsDo"
      },
      "source": [
        "__Checking Accuracies__"
      ]
    },
    {
      "cell_type": "code",
      "metadata": {
        "id": "JWkcm0nbqsDw",
        "colab": {
          "base_uri": "https://localhost:8080/"
        },
        "outputId": "23ebeb66-86d2-4a9a-a345-490e442311f2"
      },
      "source": [
        "# Confusion Matrix\n",
        "confusion_matrix(y_test, y_pred)"
      ],
      "execution_count": null,
      "outputs": [
        {
          "output_type": "execute_result",
          "data": {
            "text/plain": [
              "array([[133,   6],\n",
              "       [ 56,  28]], dtype=int64)"
            ]
          },
          "metadata": {
            "tags": []
          },
          "execution_count": 49
        }
      ]
    },
    {
      "cell_type": "code",
      "metadata": {
        "id": "Hlj9gHu5qsD1",
        "colab": {
          "base_uri": "https://localhost:8080/"
        },
        "outputId": "1115b5e0-cbca-425c-8546-5d1cfd339676"
      },
      "source": [
        "# Classification Report\n",
        "print(classification_report(y_test, y_pred))"
      ],
      "execution_count": null,
      "outputs": [
        {
          "output_type": "stream",
          "text": [
            "              precision    recall  f1-score   support\n",
            "\n",
            "           0       0.70      0.96      0.81       139\n",
            "           1       0.82      0.33      0.47        84\n",
            "\n",
            "    accuracy                           0.72       223\n",
            "   macro avg       0.76      0.65      0.64       223\n",
            "weighted avg       0.75      0.72      0.68       223\n",
            "\n"
          ],
          "name": "stdout"
        }
      ]
    },
    {
      "cell_type": "markdown",
      "metadata": {
        "id": "vVNB972jqJez"
      },
      "source": [
        "## **3. Linear - SVM  Classifier**"
      ]
    },
    {
      "cell_type": "code",
      "metadata": {
        "id": "qyv_nvg5qKCD",
        "colab": {
          "base_uri": "https://localhost:8080/"
        },
        "outputId": "95807bd0-a92c-4120-a475-b63dad11baaa"
      },
      "source": [
        "# Fitting Kernel SVM to the Training Set\n",
        "classifier = SVC(kernel = 'linear')\n",
        "classifier.fit(x_train, y_train)"
      ],
      "execution_count": null,
      "outputs": [
        {
          "output_type": "execute_result",
          "data": {
            "text/plain": [
              "SVC(kernel='linear')"
            ]
          },
          "metadata": {
            "tags": []
          },
          "execution_count": 51
        }
      ]
    },
    {
      "cell_type": "code",
      "metadata": {
        "id": "Uve4DY5qpcfx"
      },
      "source": [
        "# Predicting the Test Set Results\n",
        "y_pred = classifier.predict(x_test)"
      ],
      "execution_count": null,
      "outputs": []
    },
    {
      "cell_type": "markdown",
      "metadata": {
        "id": "hNBTF3uppcf4"
      },
      "source": [
        "__Checking Accuracies__"
      ]
    },
    {
      "cell_type": "code",
      "metadata": {
        "id": "3VIKTY_Fpcf5",
        "colab": {
          "base_uri": "https://localhost:8080/"
        },
        "outputId": "03b799cd-f1ef-4805-dd40-a50f38e33b75"
      },
      "source": [
        "# Confusion Matrix\n",
        "confusion_matrix(y_test, y_pred)"
      ],
      "execution_count": null,
      "outputs": [
        {
          "output_type": "execute_result",
          "data": {
            "text/plain": [
              "array([[116,  23],\n",
              "       [ 25,  59]], dtype=int64)"
            ]
          },
          "metadata": {
            "tags": []
          },
          "execution_count": 53
        }
      ]
    },
    {
      "cell_type": "code",
      "metadata": {
        "id": "D_R_w2I-pcf9",
        "colab": {
          "base_uri": "https://localhost:8080/"
        },
        "outputId": "e5685109-b982-4232-fbae-e4bd78e2bfa2"
      },
      "source": [
        "# Classification Report\n",
        "print(classification_report(y_test, y_pred))"
      ],
      "execution_count": null,
      "outputs": [
        {
          "output_type": "stream",
          "text": [
            "              precision    recall  f1-score   support\n",
            "\n",
            "           0       0.82      0.83      0.83       139\n",
            "           1       0.72      0.70      0.71        84\n",
            "\n",
            "    accuracy                           0.78       223\n",
            "   macro avg       0.77      0.77      0.77       223\n",
            "weighted avg       0.78      0.78      0.78       223\n",
            "\n"
          ],
          "name": "stdout"
        }
      ]
    },
    {
      "cell_type": "markdown",
      "metadata": {
        "id": "a-OIVjqqqJtd"
      },
      "source": [
        "## **4. K-NN Classifier**"
      ]
    },
    {
      "cell_type": "code",
      "metadata": {
        "id": "P9YbA9F2qJte",
        "colab": {
          "base_uri": "https://localhost:8080/"
        },
        "outputId": "079ec61b-edaf-4aec-d2f4-decf04538419"
      },
      "source": [
        "# Fitting KNN to the Training Set\n",
        "classifier = KNeighborsClassifier()\n",
        "classifier.fit(x_train, y_train)"
      ],
      "execution_count": null,
      "outputs": [
        {
          "output_type": "execute_result",
          "data": {
            "text/plain": [
              "KNeighborsClassifier()"
            ]
          },
          "metadata": {
            "tags": []
          },
          "execution_count": 56
        }
      ]
    },
    {
      "cell_type": "code",
      "metadata": {
        "id": "srEwd9d-qBJI",
        "colab": {
          "base_uri": "https://localhost:8080/"
        },
        "outputId": "3f493d19-e993-413e-aea3-54c7fb040284"
      },
      "source": [
        "# Predicting the Validation Set Results\n",
        "y_pred = classifier.predict(x_test)\n",
        "y_pred[:10]"
      ],
      "execution_count": null,
      "outputs": [
        {
          "output_type": "execute_result",
          "data": {
            "text/plain": [
              "array([0, 0, 0, 0, 0, 1, 1, 1, 1, 0], dtype=int64)"
            ]
          },
          "metadata": {
            "tags": []
          },
          "execution_count": 58
        }
      ]
    },
    {
      "cell_type": "markdown",
      "metadata": {
        "id": "EuPMkHDoqBJH"
      },
      "source": [
        "__Checking Accuracies__"
      ]
    },
    {
      "cell_type": "code",
      "metadata": {
        "id": "V3vTfDL7qBJL",
        "colab": {
          "base_uri": "https://localhost:8080/"
        },
        "outputId": "ab617a4b-c377-455a-bccb-1ad4882568b2"
      },
      "source": [
        "# Confusion Matrix\n",
        "confusion_matrix(y_test, y_pred)"
      ],
      "execution_count": null,
      "outputs": [
        {
          "output_type": "execute_result",
          "data": {
            "text/plain": [
              "array([[114,  25],\n",
              "       [ 37,  47]], dtype=int64)"
            ]
          },
          "metadata": {
            "tags": []
          },
          "execution_count": 59
        }
      ]
    },
    {
      "cell_type": "code",
      "metadata": {
        "id": "ZENaUJueqBJO",
        "colab": {
          "base_uri": "https://localhost:8080/"
        },
        "outputId": "62713f2b-6c76-4db3-d390-9725b721b6a4"
      },
      "source": [
        "# Classification Report\n",
        "print(classification_report(y_test, y_pred))"
      ],
      "execution_count": null,
      "outputs": [
        {
          "output_type": "stream",
          "text": [
            "              precision    recall  f1-score   support\n",
            "\n",
            "           0       0.75      0.82      0.79       139\n",
            "           1       0.65      0.56      0.60        84\n",
            "\n",
            "    accuracy                           0.72       223\n",
            "   macro avg       0.70      0.69      0.69       223\n",
            "weighted avg       0.72      0.72      0.72       223\n",
            "\n"
          ],
          "name": "stdout"
        }
      ]
    },
    {
      "cell_type": "markdown",
      "metadata": {
        "id": "YR3IiUvEqKCC"
      },
      "source": [
        "## **5. Decision Tree  Classifier**"
      ]
    },
    {
      "cell_type": "code",
      "metadata": {
        "id": "SUAluYI2qJe0",
        "colab": {
          "base_uri": "https://localhost:8080/"
        },
        "outputId": "c8fc7a24-f5ff-4adf-aa3e-c81b1714c0f5"
      },
      "source": [
        "# Fitting Decision Tree Classifier to the Training Set\n",
        "classifier = DecisionTreeClassifier()\n",
        "classifier.fit(x_train, y_train)"
      ],
      "execution_count": null,
      "outputs": [
        {
          "output_type": "execute_result",
          "data": {
            "text/plain": [
              "DecisionTreeClassifier()"
            ]
          },
          "metadata": {
            "tags": []
          },
          "execution_count": 61
        }
      ]
    },
    {
      "cell_type": "code",
      "metadata": {
        "id": "eHnipbwlqFbG",
        "colab": {
          "base_uri": "https://localhost:8080/"
        },
        "outputId": "704a96b9-3060-4e58-b916-b3d3716a5e13"
      },
      "source": [
        "# Predicting the Test Set Results\n",
        "y_pred = classifier.predict(x_test)\n",
        "y_pred[:10]"
      ],
      "execution_count": null,
      "outputs": [
        {
          "output_type": "execute_result",
          "data": {
            "text/plain": [
              "array([0, 0, 0, 1, 0, 0, 1, 1, 1, 0], dtype=int64)"
            ]
          },
          "metadata": {
            "tags": []
          },
          "execution_count": 63
        }
      ]
    },
    {
      "cell_type": "markdown",
      "metadata": {
        "id": "ROeo55uNqFbF"
      },
      "source": [
        "__Checking Accuracies__"
      ]
    },
    {
      "cell_type": "code",
      "metadata": {
        "id": "lXlEChbgqFbI",
        "colab": {
          "base_uri": "https://localhost:8080/"
        },
        "outputId": "d7d19482-59b1-4830-df88-4db650c36139"
      },
      "source": [
        "# Confusion Matrix\n",
        "confusion_matrix(y_test, y_pred)"
      ],
      "execution_count": null,
      "outputs": [
        {
          "output_type": "execute_result",
          "data": {
            "text/plain": [
              "array([[115,  24],\n",
              "       [ 29,  55]], dtype=int64)"
            ]
          },
          "metadata": {
            "tags": []
          },
          "execution_count": 65
        }
      ]
    },
    {
      "cell_type": "code",
      "metadata": {
        "id": "UaoM8PoOqFbL",
        "colab": {
          "base_uri": "https://localhost:8080/"
        },
        "outputId": "5dc2f3df-2a5e-4143-8f2d-68725ad95137"
      },
      "source": [
        "# Classification Report\n",
        "print(classification_report(y_test, y_pred))"
      ],
      "execution_count": null,
      "outputs": [
        {
          "output_type": "stream",
          "text": [
            "              precision    recall  f1-score   support\n",
            "\n",
            "           0       0.80      0.83      0.81       139\n",
            "           1       0.70      0.65      0.67        84\n",
            "\n",
            "    accuracy                           0.76       223\n",
            "   macro avg       0.75      0.74      0.74       223\n",
            "weighted avg       0.76      0.76      0.76       223\n",
            "\n"
          ],
          "name": "stdout"
        }
      ]
    },
    {
      "cell_type": "markdown",
      "metadata": {
        "id": "GzFEKzNQkmw_"
      },
      "source": [
        "## __6. Random Forest  Classifier__"
      ]
    },
    {
      "cell_type": "code",
      "metadata": {
        "id": "jJWyjA-ikmxB",
        "colab": {
          "base_uri": "https://localhost:8080/"
        },
        "outputId": "abab7891-9849-432e-bee5-affb579cd8e7"
      },
      "source": [
        "# Fitting Random Forest Classifier to the Training Set\n",
        "classifier = RandomForestClassifier()\n",
        "classifier.fit(x_train, y_train)"
      ],
      "execution_count": null,
      "outputs": [
        {
          "output_type": "execute_result",
          "data": {
            "text/plain": [
              "RandomForestClassifier()"
            ]
          },
          "metadata": {
            "tags": []
          },
          "execution_count": 41
        }
      ]
    },
    {
      "cell_type": "code",
      "metadata": {
        "id": "x_QGUPo7gXow",
        "colab": {
          "base_uri": "https://localhost:8080/"
        },
        "outputId": "80ad8940-d6c3-4ce6-b751-fb7d6ebcf40c"
      },
      "source": [
        "# Predicting the Test Set Results\n",
        "y_pred = classifier.predict(x_test)\n",
        "y_pred[:10]"
      ],
      "execution_count": null,
      "outputs": [
        {
          "output_type": "execute_result",
          "data": {
            "text/plain": [
              "array([0, 0, 0, 1, 1, 1, 1, 1, 1, 1], dtype=int64)"
            ]
          },
          "metadata": {
            "tags": []
          },
          "execution_count": 43
        }
      ]
    },
    {
      "cell_type": "markdown",
      "metadata": {
        "id": "uIupMHj8gXo4"
      },
      "source": [
        "__Checking Accuracies__"
      ]
    },
    {
      "cell_type": "code",
      "metadata": {
        "id": "NQtJ2IRmgXo5",
        "colab": {
          "base_uri": "https://localhost:8080/"
        },
        "outputId": "a32fe364-9715-4c1d-99a4-a5c48656aae3"
      },
      "source": [
        "# Confusion Matrix\n",
        "confusion_matrix(y_test, y_pred)"
      ],
      "execution_count": null,
      "outputs": [
        {
          "output_type": "execute_result",
          "data": {
            "text/plain": [
              "array([[126,  13],\n",
              "       [ 22,  62]], dtype=int64)"
            ]
          },
          "metadata": {
            "tags": []
          },
          "execution_count": 44
        }
      ]
    },
    {
      "cell_type": "code",
      "metadata": {
        "id": "TN3RfRpTgXo9",
        "colab": {
          "base_uri": "https://localhost:8080/"
        },
        "outputId": "abcfaf75-8604-4a5a-a4e7-838736b12656"
      },
      "source": [
        "# Classification Report\n",
        "print(classification_report(y_test, y_pred))"
      ],
      "execution_count": null,
      "outputs": [
        {
          "output_type": "stream",
          "text": [
            "              precision    recall  f1-score   support\n",
            "\n",
            "           0       0.85      0.91      0.88       139\n",
            "           1       0.83      0.74      0.78        84\n",
            "\n",
            "    accuracy                           0.84       223\n",
            "   macro avg       0.84      0.82      0.83       223\n",
            "weighted avg       0.84      0.84      0.84       223\n",
            "\n"
          ],
          "name": "stdout"
        }
      ]
    },
    {
      "cell_type": "markdown",
      "metadata": {
        "id": "hzJFtHsZsUyb"
      },
      "source": [
        "## **7. XGBoost Classifier**"
      ]
    },
    {
      "cell_type": "code",
      "metadata": {
        "id": "mgZ61NhmsUyc",
        "colab": {
          "base_uri": "https://localhost:8080/"
        },
        "outputId": "673f5dd0-e04c-4882-d9a0-227462d399ae"
      },
      "source": [
        "# Fitting XGBoost to the Training Set\n",
        "classifier = XGBClassifier()\n",
        "classifier.fit(x_train, y_train)"
      ],
      "execution_count": null,
      "outputs": [
        {
          "output_type": "execute_result",
          "data": {
            "text/plain": [
              "XGBClassifier(base_score=0.5, booster='gbtree', colsample_bylevel=1,\n",
              "              colsample_bynode=1, colsample_bytree=1, gamma=0, gpu_id=-1,\n",
              "              importance_type='gain', interaction_constraints='',\n",
              "              learning_rate=0.300000012, max_delta_step=0, max_depth=6,\n",
              "              min_child_weight=1, missing=nan, monotone_constraints='()',\n",
              "              n_estimators=100, n_jobs=0, num_parallel_tree=1, random_state=0,\n",
              "              reg_alpha=0, reg_lambda=1, scale_pos_weight=1, subsample=1,\n",
              "              tree_method='exact', validate_parameters=1, verbosity=None)"
            ]
          },
          "metadata": {
            "tags": []
          },
          "execution_count": 83
        }
      ]
    },
    {
      "cell_type": "code",
      "metadata": {
        "id": "_EmfW86-uVlc"
      },
      "source": [
        "# Predicting the Test Set Results\n",
        "y_pred = classifier.predict(x_test)"
      ],
      "execution_count": null,
      "outputs": []
    },
    {
      "cell_type": "markdown",
      "metadata": {
        "id": "ALDJWehAuVlc"
      },
      "source": [
        "__Checking Accuracies__"
      ]
    },
    {
      "cell_type": "code",
      "metadata": {
        "id": "V7yIkTOwuVlf",
        "colab": {
          "base_uri": "https://localhost:8080/"
        },
        "outputId": "1b0b1bf6-7cb7-4b16-800c-5a52df8c0193"
      },
      "source": [
        "# Confusion Matrix\n",
        "confusion_matrix(y_test, y_pred)"
      ],
      "execution_count": null,
      "outputs": [
        {
          "output_type": "execute_result",
          "data": {
            "text/plain": [
              "array([[117,  22],\n",
              "       [ 19,  65]], dtype=int64)"
            ]
          },
          "metadata": {
            "tags": []
          },
          "execution_count": 81
        }
      ]
    },
    {
      "cell_type": "code",
      "metadata": {
        "id": "-MWJczskuVlh",
        "colab": {
          "base_uri": "https://localhost:8080/"
        },
        "outputId": "5b395ee4-f95a-4eb5-b877-af05fbde1164"
      },
      "source": [
        "# Classification Report\n",
        "print(classification_report(y_test, y_pred))"
      ],
      "execution_count": null,
      "outputs": [
        {
          "output_type": "stream",
          "text": [
            "              precision    recall  f1-score   support\n",
            "\n",
            "           0       0.84      0.88      0.86       139\n",
            "           1       0.78      0.73      0.75        84\n",
            "\n",
            "    accuracy                           0.82       223\n",
            "   macro avg       0.81      0.80      0.81       223\n",
            "weighted avg       0.82      0.82      0.82       223\n",
            "\n"
          ],
          "name": "stdout"
        }
      ]
    },
    {
      "cell_type": "markdown",
      "metadata": {
        "id": "r2uo_XANX6Gy"
      },
      "source": [
        "## __Score Card of the Model's Performances__"
      ]
    },
    {
      "cell_type": "markdown",
      "metadata": {
        "id": "wTSSaAezfgUF"
      },
      "source": [
        "Therefore, Accuracies of the Base Models are - <br>\n",
        "\n",
        "\n",
        "\n",
        "```\n",
        "   Model Name                             Accuracy\n",
        "1. Logistic Regression :                    0.79\n",
        "2. Kernel-SVM :                             0.72              \n",
        "3. Liner-SVM :                              0.78\n",
        "4. K-NN :                                   0.72       \n",
        "5. Decision Tree :                          0.76          \n",
        "6. Random Forest :                          0.84     \n",
        "7. XGBoost Classifier :                     0.82      \n",
        "``` "
      ]
    },
    {
      "cell_type": "markdown",
      "metadata": {
        "id": "a6Lss7MOZw2d"
      },
      "source": [
        "* We can note from here that, as the complexity of the Model increases, Accuracy of the Model increases as well."
      ]
    },
    {
      "cell_type": "markdown",
      "metadata": {
        "id": "wuU6HgnFXEte"
      },
      "source": [
        "# End"
      ]
    }
  ]
}